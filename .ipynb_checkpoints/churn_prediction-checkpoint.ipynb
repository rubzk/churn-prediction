{
 "cells": [
  {
   "cell_type": "code",
   "execution_count": 1,
   "metadata": {},
   "outputs": [],
   "source": [
    "import pandas as pd\n",
    "import numpy as np\n",
    "import matplotlib.pyplot as plt\n",
    "import seaborn as sns"
   ]
  },
  {
   "cell_type": "code",
   "execution_count": 2,
   "metadata": {},
   "outputs": [],
   "source": [
    "data = pd.read_csv('WA_Fn-UseC_-Telco-Customer-Churn.csv')"
   ]
  },
  {
   "cell_type": "code",
   "execution_count": 3,
   "metadata": {},
   "outputs": [
    {
     "data": {
      "text/html": [
       "<div>\n",
       "<style scoped>\n",
       "    .dataframe tbody tr th:only-of-type {\n",
       "        vertical-align: middle;\n",
       "    }\n",
       "\n",
       "    .dataframe tbody tr th {\n",
       "        vertical-align: top;\n",
       "    }\n",
       "\n",
       "    .dataframe thead th {\n",
       "        text-align: right;\n",
       "    }\n",
       "</style>\n",
       "<table border=\"1\" class=\"dataframe\">\n",
       "  <thead>\n",
       "    <tr style=\"text-align: right;\">\n",
       "      <th></th>\n",
       "      <th>customerID</th>\n",
       "      <th>gender</th>\n",
       "      <th>SeniorCitizen</th>\n",
       "      <th>Partner</th>\n",
       "      <th>Dependents</th>\n",
       "      <th>tenure</th>\n",
       "      <th>PhoneService</th>\n",
       "      <th>MultipleLines</th>\n",
       "      <th>InternetService</th>\n",
       "      <th>OnlineSecurity</th>\n",
       "      <th>...</th>\n",
       "      <th>DeviceProtection</th>\n",
       "      <th>TechSupport</th>\n",
       "      <th>StreamingTV</th>\n",
       "      <th>StreamingMovies</th>\n",
       "      <th>Contract</th>\n",
       "      <th>PaperlessBilling</th>\n",
       "      <th>PaymentMethod</th>\n",
       "      <th>MonthlyCharges</th>\n",
       "      <th>TotalCharges</th>\n",
       "      <th>Churn</th>\n",
       "    </tr>\n",
       "  </thead>\n",
       "  <tbody>\n",
       "    <tr>\n",
       "      <th>0</th>\n",
       "      <td>7590-VHVEG</td>\n",
       "      <td>Female</td>\n",
       "      <td>0</td>\n",
       "      <td>Yes</td>\n",
       "      <td>No</td>\n",
       "      <td>1</td>\n",
       "      <td>No</td>\n",
       "      <td>No phone service</td>\n",
       "      <td>DSL</td>\n",
       "      <td>No</td>\n",
       "      <td>...</td>\n",
       "      <td>No</td>\n",
       "      <td>No</td>\n",
       "      <td>No</td>\n",
       "      <td>No</td>\n",
       "      <td>Month-to-month</td>\n",
       "      <td>Yes</td>\n",
       "      <td>Electronic check</td>\n",
       "      <td>29.85</td>\n",
       "      <td>29.85</td>\n",
       "      <td>No</td>\n",
       "    </tr>\n",
       "    <tr>\n",
       "      <th>1</th>\n",
       "      <td>5575-GNVDE</td>\n",
       "      <td>Male</td>\n",
       "      <td>0</td>\n",
       "      <td>No</td>\n",
       "      <td>No</td>\n",
       "      <td>34</td>\n",
       "      <td>Yes</td>\n",
       "      <td>No</td>\n",
       "      <td>DSL</td>\n",
       "      <td>Yes</td>\n",
       "      <td>...</td>\n",
       "      <td>Yes</td>\n",
       "      <td>No</td>\n",
       "      <td>No</td>\n",
       "      <td>No</td>\n",
       "      <td>One year</td>\n",
       "      <td>No</td>\n",
       "      <td>Mailed check</td>\n",
       "      <td>56.95</td>\n",
       "      <td>1889.5</td>\n",
       "      <td>No</td>\n",
       "    </tr>\n",
       "    <tr>\n",
       "      <th>2</th>\n",
       "      <td>3668-QPYBK</td>\n",
       "      <td>Male</td>\n",
       "      <td>0</td>\n",
       "      <td>No</td>\n",
       "      <td>No</td>\n",
       "      <td>2</td>\n",
       "      <td>Yes</td>\n",
       "      <td>No</td>\n",
       "      <td>DSL</td>\n",
       "      <td>Yes</td>\n",
       "      <td>...</td>\n",
       "      <td>No</td>\n",
       "      <td>No</td>\n",
       "      <td>No</td>\n",
       "      <td>No</td>\n",
       "      <td>Month-to-month</td>\n",
       "      <td>Yes</td>\n",
       "      <td>Mailed check</td>\n",
       "      <td>53.85</td>\n",
       "      <td>108.15</td>\n",
       "      <td>Yes</td>\n",
       "    </tr>\n",
       "    <tr>\n",
       "      <th>3</th>\n",
       "      <td>7795-CFOCW</td>\n",
       "      <td>Male</td>\n",
       "      <td>0</td>\n",
       "      <td>No</td>\n",
       "      <td>No</td>\n",
       "      <td>45</td>\n",
       "      <td>No</td>\n",
       "      <td>No phone service</td>\n",
       "      <td>DSL</td>\n",
       "      <td>Yes</td>\n",
       "      <td>...</td>\n",
       "      <td>Yes</td>\n",
       "      <td>Yes</td>\n",
       "      <td>No</td>\n",
       "      <td>No</td>\n",
       "      <td>One year</td>\n",
       "      <td>No</td>\n",
       "      <td>Bank transfer (automatic)</td>\n",
       "      <td>42.30</td>\n",
       "      <td>1840.75</td>\n",
       "      <td>No</td>\n",
       "    </tr>\n",
       "    <tr>\n",
       "      <th>4</th>\n",
       "      <td>9237-HQITU</td>\n",
       "      <td>Female</td>\n",
       "      <td>0</td>\n",
       "      <td>No</td>\n",
       "      <td>No</td>\n",
       "      <td>2</td>\n",
       "      <td>Yes</td>\n",
       "      <td>No</td>\n",
       "      <td>Fiber optic</td>\n",
       "      <td>No</td>\n",
       "      <td>...</td>\n",
       "      <td>No</td>\n",
       "      <td>No</td>\n",
       "      <td>No</td>\n",
       "      <td>No</td>\n",
       "      <td>Month-to-month</td>\n",
       "      <td>Yes</td>\n",
       "      <td>Electronic check</td>\n",
       "      <td>70.70</td>\n",
       "      <td>151.65</td>\n",
       "      <td>Yes</td>\n",
       "    </tr>\n",
       "  </tbody>\n",
       "</table>\n",
       "<p>5 rows × 21 columns</p>\n",
       "</div>"
      ],
      "text/plain": [
       "   customerID  gender  SeniorCitizen Partner Dependents  tenure PhoneService  \\\n",
       "0  7590-VHVEG  Female              0     Yes         No       1           No   \n",
       "1  5575-GNVDE    Male              0      No         No      34          Yes   \n",
       "2  3668-QPYBK    Male              0      No         No       2          Yes   \n",
       "3  7795-CFOCW    Male              0      No         No      45           No   \n",
       "4  9237-HQITU  Female              0      No         No       2          Yes   \n",
       "\n",
       "      MultipleLines InternetService OnlineSecurity  ... DeviceProtection  \\\n",
       "0  No phone service             DSL             No  ...               No   \n",
       "1                No             DSL            Yes  ...              Yes   \n",
       "2                No             DSL            Yes  ...               No   \n",
       "3  No phone service             DSL            Yes  ...              Yes   \n",
       "4                No     Fiber optic             No  ...               No   \n",
       "\n",
       "  TechSupport StreamingTV StreamingMovies        Contract PaperlessBilling  \\\n",
       "0          No          No              No  Month-to-month              Yes   \n",
       "1          No          No              No        One year               No   \n",
       "2          No          No              No  Month-to-month              Yes   \n",
       "3         Yes          No              No        One year               No   \n",
       "4          No          No              No  Month-to-month              Yes   \n",
       "\n",
       "               PaymentMethod MonthlyCharges  TotalCharges Churn  \n",
       "0           Electronic check          29.85         29.85    No  \n",
       "1               Mailed check          56.95        1889.5    No  \n",
       "2               Mailed check          53.85        108.15   Yes  \n",
       "3  Bank transfer (automatic)          42.30       1840.75    No  \n",
       "4           Electronic check          70.70        151.65   Yes  \n",
       "\n",
       "[5 rows x 21 columns]"
      ]
     },
     "execution_count": 3,
     "metadata": {},
     "output_type": "execute_result"
    }
   ],
   "source": [
    "data.head()"
   ]
  },
  {
   "cell_type": "code",
   "execution_count": 4,
   "metadata": {},
   "outputs": [
    {
     "data": {
      "text/plain": [
       "Index(['customerID', 'gender', 'SeniorCitizen', 'Partner', 'Dependents',\n",
       "       'tenure', 'PhoneService', 'MultipleLines', 'InternetService',\n",
       "       'OnlineSecurity', 'OnlineBackup', 'DeviceProtection', 'TechSupport',\n",
       "       'StreamingTV', 'StreamingMovies', 'Contract', 'PaperlessBilling',\n",
       "       'PaymentMethod', 'MonthlyCharges', 'TotalCharges', 'Churn'],\n",
       "      dtype='object')"
      ]
     },
     "execution_count": 4,
     "metadata": {},
     "output_type": "execute_result"
    }
   ],
   "source": [
    "data.columns"
   ]
  },
  {
   "cell_type": "code",
   "execution_count": 5,
   "metadata": {
    "scrolled": true
   },
   "outputs": [
    {
     "data": {
      "text/plain": [
       "customerID          0\n",
       "gender              0\n",
       "SeniorCitizen       0\n",
       "Partner             0\n",
       "Dependents          0\n",
       "tenure              0\n",
       "PhoneService        0\n",
       "MultipleLines       0\n",
       "InternetService     0\n",
       "OnlineSecurity      0\n",
       "OnlineBackup        0\n",
       "DeviceProtection    0\n",
       "TechSupport         0\n",
       "StreamingTV         0\n",
       "StreamingMovies     0\n",
       "Contract            0\n",
       "PaperlessBilling    0\n",
       "PaymentMethod       0\n",
       "MonthlyCharges      0\n",
       "TotalCharges        0\n",
       "Churn               0\n",
       "dtype: int64"
      ]
     },
     "execution_count": 5,
     "metadata": {},
     "output_type": "execute_result"
    }
   ],
   "source": [
    "data.isna().sum()"
   ]
  },
  {
   "cell_type": "markdown",
   "metadata": {},
   "source": [
    "### Questions"
   ]
  },
  {
   "cell_type": "markdown",
   "metadata": {},
   "source": [
    "Does the gender affects on the descition to cancle the service?"
   ]
  },
  {
   "cell_type": "code",
   "execution_count": 6,
   "metadata": {
    "scrolled": true
   },
   "outputs": [
    {
     "data": {
      "text/plain": [
       "<matplotlib.axes._subplots.AxesSubplot at 0x7f5d9e5347d0>"
      ]
     },
     "execution_count": 6,
     "metadata": {},
     "output_type": "execute_result"
    },
    {
     "data": {
      "image/png": "[encoded data removed]",
      "text/plain": [
       "<Figure size 432x288 with 1 Axes>"
      ]
     },
     "metadata": {
      "needs_background": "light"
     },
     "output_type": "display_data"
    }
   ],
   "source": [
    "plot = data.groupby(['gender','Churn']).size().reset_index().pivot(columns='Churn', index='gender', values=0)\n",
    "plot.plot(kind='bar', stacked=True, )"
   ]
  },
  {
   "cell_type": "markdown",
   "metadata": {},
   "source": [
    "We see no difference between genders when it comes to cancel the service"
   ]
  },
  {
   "cell_type": "markdown",
   "metadata": {},
   "source": [
    "Senior Citizens tend to cancel more?"
   ]
  },
  {
   "cell_type": "code",
   "execution_count": 7,
   "metadata": {},
   "outputs": [
    {
     "data": {
      "text/plain": [
       "<matplotlib.axes._subplots.AxesSubplot at 0x7f5d9bdb6e90>"
      ]
     },
     "execution_count": 7,
     "metadata": {},
     "output_type": "execute_result"
    },
    {
     "data": {
      "image/png": "[encoded data removed]",
      "text/plain": [
       "<Figure size 432x288 with 1 Axes>"
      ]
     },
     "metadata": {
      "needs_background": "light"
     },
     "output_type": "display_data"
    }
   ],
   "source": [
    "plot = data.groupby(['SeniorCitizen','Churn']).size().reset_index().pivot(columns='Churn', index='SeniorCitizen', values=0)\n",
    "plot.plot(kind='bar', stacked=True)"
   ]
  },
  {
   "cell_type": "code",
   "execution_count": 8,
   "metadata": {
    "scrolled": false
   },
   "outputs": [
    {
     "data": {
      "text/plain": [
       "<seaborn.axisgrid.FacetGrid at 0x7f5d9e5f6ed0>"
      ]
     },
     "execution_count": 8,
     "metadata": {},
     "output_type": "execute_result"
    },
    {
     "data": {
      "image/png": "[encoded data removed]",
      "text/plain": [
       "<Figure size 360x360 with 1 Axes>"
      ]
     },
     "metadata": {
      "needs_background": "light"
     },
     "output_type": "display_data"
    }
   ],
   "source": [
    "sns.catplot(x='Churn', kind='count',data=data[['SeniorCitizen','Churn']][data.SeniorCitizen == 1])"
   ]
  },
  {
   "cell_type": "markdown",
   "metadata": {},
   "source": [
    "We can observe that although there are not many Seniors Citizens in the data set, a considerable part of them cancel their contracts. Let's make a deeper analysis here"
   ]
  },
  {
   "cell_type": "code",
   "execution_count": 9,
   "metadata": {},
   "outputs": [
    {
     "data": {
      "image/png": "[encoded data removed]",
      "text/plain": [
       "<Figure size 864x216 with 4 Axes>"
      ]
     },
     "metadata": {
      "needs_background": "light"
     },
     "output_type": "display_data"
    }
   ],
   "source": [
    "g = sns.FacetGrid(data[data.SeniorCitizen ==1], col='PaymentMethod')\n",
    "g = g.map(plt.hist, 'Churn')"
   ]
  },
  {
   "cell_type": "code",
   "execution_count": 10,
   "metadata": {},
   "outputs": [
    {
     "data": {
      "image/png": "[encoded data removed]",
      "text/plain": [
       "<Figure size 648x216 with 3 Axes>"
      ]
     },
     "metadata": {
      "needs_background": "light"
     },
     "output_type": "display_data"
    }
   ],
   "source": [
    "g = sns.FacetGrid(data[data.SeniorCitizen ==1], col='Contract')\n",
    "g = g.map(plt.hist, 'Churn')"
   ]
  },
  {
   "cell_type": "markdown",
   "metadata": {},
   "source": [
    "We can already start to think that the feature PaymentMethod and Contract are very powerful to this analysis"
   ]
  },
  {
   "cell_type": "markdown",
   "metadata": {},
   "source": [
    "Let's see what happend with this two feature but with no Senior Citizens"
   ]
  },
  {
   "cell_type": "code",
   "execution_count": 11,
   "metadata": {
    "scrolled": true
   },
   "outputs": [
    {
     "data": {
      "text/plain": [
       "<matplotlib.axes._subplots.AxesSubplot at 0x7f5d9b991890>"
      ]
     },
     "execution_count": 11,
     "metadata": {},
     "output_type": "execute_result"
    },
    {
     "data": {
      "image/png": "[encoded data removed]",
      "text/plain": [
       "<Figure size 432x288 with 1 Axes>"
      ]
     },
     "metadata": {
      "needs_background": "light"
     },
     "output_type": "display_data"
    }
   ],
   "source": [
    "plot = data.groupby(['Contract','Churn']).size().reset_index().pivot(columns='Churn', index='Contract', values=0)\n",
    "plot.plot(kind='bar', stacked=True)"
   ]
  },
  {
   "cell_type": "markdown",
   "metadata": {},
   "source": [
    "Here is a huge finding, as we can see the most part of the churn is by month-to-month contract customers. This was one of my theories before analyzing the data and came up to be true."
   ]
  },
  {
   "cell_type": "code",
   "execution_count": 12,
   "metadata": {},
   "outputs": [
    {
     "data": {
      "text/plain": [
       "<matplotlib.axes._subplots.AxesSubplot at 0x7f5d9b909110>"
      ]
     },
     "execution_count": 12,
     "metadata": {},
     "output_type": "execute_result"
    },
    {
     "data": {
      "image/png": "[encoded data removed]",
      "text/plain": [
       "<Figure size 432x288 with 1 Axes>"
      ]
     },
     "metadata": {
      "needs_background": "light"
     },
     "output_type": "display_data"
    }
   ],
   "source": [
    "plot = data.groupby(['PaymentMethod','Churn']).size().reset_index().pivot(columns='Churn', index='PaymentMethod', values=0)\n",
    "plot.plot(kind='bar', stacked=True)"
   ]
  },
  {
   "cell_type": "markdown",
   "metadata": {},
   "source": [
    "Another interesting finding here, the electronic check payment method was the one with most considerable churn rate."
   ]
  },
  {
   "cell_type": "code",
   "execution_count": 13,
   "metadata": {},
   "outputs": [],
   "source": [
    "rates = pd.DataFrame([], columns=['Method', 'Positive Rate', 'Negative Rate'])"
   ]
  },
  {
   "cell_type": "code",
   "execution_count": 14,
   "metadata": {},
   "outputs": [],
   "source": [
    "for method in data['PaymentMethod'].value_counts().index.tolist():\n",
    "    negative_rate = data[data.PaymentMethod == method]['Churn'].value_counts()[0] / data['Churn'].shape[0]\n",
    "    positive_rate = data[data.PaymentMethod == method]['Churn'].value_counts()[1] / data['Churn'].shape[0]\n",
    "    rate = {'Method': method, 'Positive Rate': positive_rate, 'Negative Rate': negative_rate}\n",
    "    rates = rates.append(pd.Series(rate), ignore_index=True)"
   ]
  },
  {
   "cell_type": "code",
   "execution_count": 15,
   "metadata": {},
   "outputs": [
    {
     "data": {
      "text/html": [
       "<div>\n",
       "<style scoped>\n",
       "    .dataframe tbody tr th:only-of-type {\n",
       "        vertical-align: middle;\n",
       "    }\n",
       "\n",
       "    .dataframe tbody tr th {\n",
       "        vertical-align: top;\n",
       "    }\n",
       "\n",
       "    .dataframe thead th {\n",
       "        text-align: right;\n",
       "    }\n",
       "</style>\n",
       "<table border=\"1\" class=\"dataframe\">\n",
       "  <thead>\n",
       "    <tr style=\"text-align: right;\">\n",
       "      <th></th>\n",
       "      <th>Method</th>\n",
       "      <th>Positive Rate</th>\n",
       "      <th>Negative Rate</th>\n",
       "    </tr>\n",
       "  </thead>\n",
       "  <tbody>\n",
       "    <tr>\n",
       "      <th>0</th>\n",
       "      <td>Electronic check</td>\n",
       "      <td>0.152066</td>\n",
       "      <td>0.183729</td>\n",
       "    </tr>\n",
       "    <tr>\n",
       "      <th>1</th>\n",
       "      <td>Mailed check</td>\n",
       "      <td>0.043731</td>\n",
       "      <td>0.185148</td>\n",
       "    </tr>\n",
       "    <tr>\n",
       "      <th>2</th>\n",
       "      <td>Bank transfer (automatic)</td>\n",
       "      <td>0.036632</td>\n",
       "      <td>0.182593</td>\n",
       "    </tr>\n",
       "    <tr>\n",
       "      <th>3</th>\n",
       "      <td>Credit card (automatic)</td>\n",
       "      <td>0.032941</td>\n",
       "      <td>0.183161</td>\n",
       "    </tr>\n",
       "  </tbody>\n",
       "</table>\n",
       "</div>"
      ],
      "text/plain": [
       "                      Method  Positive Rate  Negative Rate\n",
       "0           Electronic check       0.152066       0.183729\n",
       "1               Mailed check       0.043731       0.185148\n",
       "2  Bank transfer (automatic)       0.036632       0.182593\n",
       "3    Credit card (automatic)       0.032941       0.183161"
      ]
     },
     "execution_count": 15,
     "metadata": {},
     "output_type": "execute_result"
    }
   ],
   "source": [
    "rates"
   ]
  },
  {
   "cell_type": "markdown",
   "metadata": {},
   "source": [
    "Make a quick look to the positive rates of the other three, significantly lower than Electronic Check"
   ]
  },
  {
   "cell_type": "markdown",
   "metadata": {},
   "source": [
    "Next we want to analyze the tenure which stands for how long the clients have been actively paying the service"
   ]
  },
  {
   "cell_type": "code",
   "execution_count": 16,
   "metadata": {},
   "outputs": [
    {
     "data": {
      "text/plain": [
       "<matplotlib.axes._subplots.AxesSubplot at 0x7f5d9bad0750>"
      ]
     },
     "execution_count": 16,
     "metadata": {},
     "output_type": "execute_result"
    },
    {
     "data": {
      "image/png": "[encoded data removed]",
      "text/plain": [
       "<Figure size 1440x720 with 1 Axes>"
      ]
     },
     "metadata": {
      "needs_background": "light"
     },
     "output_type": "display_data"
    }
   ],
   "source": [
    "plt.figure(figsize=(20,10))\n",
    "sns.distplot(data['tenure'])"
   ]
  },
  {
   "cell_type": "code",
   "execution_count": 17,
   "metadata": {
    "scrolled": true
   },
   "outputs": [
    {
     "data": {
      "text/plain": [
       "<matplotlib.axes._subplots.AxesSubplot at 0x7f5d9bba0a10>"
      ]
     },
     "execution_count": 17,
     "metadata": {},
     "output_type": "execute_result"
    },
    {
     "data": {
      "image/png": "[encoded data removed]",
      "text/plain": [
       "<Figure size 1440x720 with 1 Axes>"
      ]
     },
     "metadata": {
      "needs_background": "light"
     },
     "output_type": "display_data"
    }
   ],
   "source": [
    "plt.figure(figsize=(20,10))\n",
    "sns.distplot(data['tenure'][data.Churn == 'Yes'], color='red')\n",
    "sns.distplot(data['tenure'][data.Churn == 'No'], color='green')"
   ]
  },
  {
   "cell_type": "markdown",
   "metadata": {},
   "source": [
    "An interesting observation here, the red ones showing the tenure of the clients that churned. And in green the ones that did not. We can see a large amount of clients who churned in the first months and the ones who are clients for more than a year maintaing the service."
   ]
  },
  {
   "cell_type": "markdown",
   "metadata": {},
   "source": [
    "Taking a look to the Dependents and Partners of the clients, we can see that people who has not a partner or dependents tend to have a greater churn rate. This could be because of the freedom of not being attached to anyone "
   ]
  },
  {
   "cell_type": "code",
   "execution_count": 18,
   "metadata": {
    "scrolled": true
   },
   "outputs": [
    {
     "data": {
      "text/plain": [
       "<Figure size 720x720 with 0 Axes>"
      ]
     },
     "metadata": {},
     "output_type": "display_data"
    },
    {
     "data": {
      "image/png": "[encoded data removed]",
      "text/plain": [
       "<Figure size 432x432 with 4 Axes>"
      ]
     },
     "metadata": {
      "needs_background": "light"
     },
     "output_type": "display_data"
    }
   ],
   "source": [
    "plt.figure(figsize=(10,10))\n",
    "g = sns.FacetGrid(data, col='Dependents', row='Partner', hue='Churn')\n",
    "g = g.map(plt.hist, 'Churn')"
   ]
  },
  {
   "cell_type": "markdown",
   "metadata": {},
   "source": [
    "Now another theory I had in mind was the fact that if the client is recieving a paper billing instead of a paperless it would have a greater churn rate but the following plot prove me wrong."
   ]
  },
  {
   "cell_type": "code",
   "execution_count": 19,
   "metadata": {
    "scrolled": true
   },
   "outputs": [
    {
     "data": {
      "text/plain": [
       "<matplotlib.axes._subplots.AxesSubplot at 0x7f5d9b6bb450>"
      ]
     },
     "execution_count": 19,
     "metadata": {},
     "output_type": "execute_result"
    },
    {
     "data": {
      "image/png": "[encoded data removed]",
      "text/plain": [
       "<Figure size 432x288 with 1 Axes>"
      ]
     },
     "metadata": {
      "needs_background": "light"
     },
     "output_type": "display_data"
    }
   ],
   "source": [
    "plot = data.groupby(['PaperlessBilling','Churn']).size().reset_index().pivot(columns='Churn', index='PaperlessBilling', values=0)\n",
    "plot.plot(kind='bar', stacked=True)"
   ]
  },
  {
   "cell_type": "code",
   "execution_count": 20,
   "metadata": {},
   "outputs": [
    {
     "data": {
      "text/plain": [
       "<matplotlib.axes._subplots.AxesSubplot at 0x7fcd2430e7d0>"
      ]
     },
     "execution_count": 20,
     "metadata": {},
     "output_type": "execute_result"
    },
    {
     "data": {
      "image/png": "[encoded data removed]",
      "text/plain": [
       "<Figure size 432x288 with 1 Axes>"
      ]
     },
     "metadata": {
      "needs_background": "light"
     },
     "output_type": "display_data"
    }
   ],
   "source": [
    "sns.distplot(data['MonthlyCharges'][data.Churn == 'Yes'], color= 'red')\n",
    "sns.distplot(data['MonthlyCharges'][data.Churn == 'No'], color ='green')"
   ]
  },
  {
   "cell_type": "markdown",
   "metadata": {},
   "source": [
    "Looking at the monthly charges of the clients we can see that at lower charges, lower the churn rate too but this could be biased because we are not counting how many services the client had contracted."
   ]
  },
  {
   "cell_type": "markdown",
   "metadata": {},
   "source": [
    "Now that our basic EDA has ended we are going to create a baseline model for all the features "
   ]
  },
  {
   "cell_type": "code",
   "execution_count": 20,
   "metadata": {},
   "outputs": [],
   "source": [
    "def map_categorical_ft(data, features):\n",
    "    map_features = []\n",
    "    for feature in features:\n",
    "        mapping = {}\n",
    "        idx = data[feature].value_counts().index.tolist()\n",
    "        for index,value in enumerate(idx):\n",
    "            mapping.update({value: index})  \n",
    "        data[feature+'_ctg'] = data[feature].map(mapping)\n",
    "        map_features.append(feature+'_ctg')\n",
    "    return map_features\n"
   ]
  },
  {
   "cell_type": "code",
   "execution_count": 21,
   "metadata": {},
   "outputs": [],
   "source": [
    "cat_features = ['gender', 'SeniorCitizen', 'Partner', 'Dependents', 'PhoneService', 'MultipleLines', 'InternetService',\n",
    "       'OnlineSecurity', 'OnlineBackup', 'DeviceProtection', 'TechSupport',\n",
    "       'StreamingTV', 'StreamingMovies', 'Contract', 'PaperlessBilling',\n",
    "       'PaymentMethod']"
   ]
  },
  {
   "cell_type": "code",
   "execution_count": 22,
   "metadata": {},
   "outputs": [],
   "source": [
    "cat_features = map_categorical_ft(data, cat_features)\n",
    "\n",
    "features = cat_features + ['tenure','MonthlyCharges', 'TotalCharges']"
   ]
  },
  {
   "cell_type": "code",
   "execution_count": 23,
   "metadata": {},
   "outputs": [],
   "source": [
    "data['TotalCharges'] = (data['tenure'] * data['MonthlyCharges'] ) - data['MonthlyCharges']"
   ]
  },
  {
   "cell_type": "code",
   "execution_count": 25,
   "metadata": {},
   "outputs": [],
   "source": [
    "data['Churn'] = data['Churn'].map({'Yes': 1,\n",
    "                                   'No': 0})"
   ]
  },
  {
   "cell_type": "markdown",
   "metadata": {},
   "source": [
    "## Creating a baseline model"
   ]
  },
  {
   "cell_type": "markdown",
   "metadata": {},
   "source": [
    "Since this is a classification problem, we are going to train three different algorithms and see the performance of each one. Catboost, XGBoost and LightGBM"
   ]
  },
  {
   "cell_type": "markdown",
   "metadata": {},
   "source": [
    "### Catboost Baseline model"
   ]
  },
  {
   "cell_type": "code",
   "execution_count": 27,
   "metadata": {},
   "outputs": [],
   "source": [
    "from catboost import CatBoostClassifier\n",
    "from catboost import Pool\n",
    "\n",
    "cb_clf = CatBoostClassifier(task_type = 'GPU', devices = '0:1',)\n",
    "#training_pool = Pool(X_train[features], y_train, cat_features=cat_features)"
   ]
  },
  {
   "cell_type": "markdown",
   "metadata": {},
   "source": [
    "### XGBoost"
   ]
  },
  {
   "cell_type": "code",
   "execution_count": 106,
   "metadata": {},
   "outputs": [],
   "source": [
    "import xgboost as xgb\n",
    "\n",
    "xgb_clf = xgb.XGBClassifier()"
   ]
  },
  {
   "cell_type": "markdown",
   "metadata": {},
   "source": [
    "### LightGBM "
   ]
  },
  {
   "cell_type": "code",
   "execution_count": 107,
   "metadata": {},
   "outputs": [],
   "source": [
    "import lightgbm as lgb\n",
    "lgb_clf = lgb.LGBMClassifier()"
   ]
  },
  {
   "cell_type": "markdown",
   "metadata": {},
   "source": [
    "We are going to create a function that takes as input the models, data, features and the % of train/test and it will return Metrics, ROC_AUC Curve and plot the confusion matrix of each one."
   ]
  },
  {
   "cell_type": "code",
   "execution_count": 173,
   "metadata": {},
   "outputs": [],
   "source": [
    "from sklearn.model_selection import train_test_split\n",
    "from sklearn.metrics import accuracy_score, roc_auc_score, classification_report, roc_curve\n",
    "def train_bl_models(models,data,features,pred_column,percentage_of_split,params='base'):\n",
    "    \n",
    "    #First thing is to divide the data \n",
    "    splits = {}\n",
    "    \n",
    "    X_train, X_test, y_train, y_test = train_test_split(data.loc[:, data.columns != pred_column], data[pred_column], \n",
    "                                                        test_size=percentage_of_split)\n",
    "    X_train =X_train[features]\n",
    "    X_test = X_test[features]\n",
    "    #Create Df for append metrics\n",
    "    \n",
    "    splits.update({'X_train': X_train,\n",
    "                   'X_test': X_test,\n",
    "                   'y_train': y_train,\n",
    "                   'y_test': y_test})\n",
    "    \n",
    "    metrics = pd.DataFrame([], columns=['Accuracy','Precision','Recall','F1-Score','ROC_AUC Score',\n",
    "                                       'Log_loss', 'FPR', 'TPR', 'THR','pred','y_test'])\n",
    "    \n",
    "    \n",
    "    if params =='base':\n",
    "        \n",
    "        for model in models:\n",
    "            #train model \n",
    "            print('Training model')\n",
    "            model.fit(X_train, y_train)\n",
    "            print('Trained finishedn now predicting')\n",
    "            prediction = model.predict(X_test)\n",
    "            print(len(prediction))\n",
    "            print('Starting to get the metrics')\n",
    "            \n",
    "            model_stats = {}\n",
    "            \n",
    "            ### report:\n",
    "            model_stats.update({'Accuracy': classification_report(y_test, prediction, output_dict=True)['accuracy']})\n",
    "            \n",
    "            ## others metrics:\n",
    "            \n",
    "            model_stats.update({'Precision': classification_report(y_test, prediction, output_dict=True)['macro avg']['precision'],\n",
    "                               'Recall': classification_report(y_test, prediction, output_dict=True)['macro avg']['recall'],\n",
    "                               'F1-Score': classification_report(y_test, prediction, output_dict=True)['macro avg']['f1-score']})\n",
    "            \n",
    "            ## get_roc_auc_score\n",
    "            \n",
    "            model_stats.update({'ROC_AUC Score': roc_auc_score(y_test,prediction)})\n",
    "            \n",
    "            ## add roc_curve for plotting later\n",
    "            \n",
    "            fpr, tpr, th = roc_curve(y_test, prediction, pos_label=1)\n",
    "            \n",
    "            model_stats.update({'FPR': fpr, 'TPR': tpr,'THR': th})\n",
    "            ### apending stuff for later analysis\n",
    "            \n",
    "            model_stats['pred'] =  prediction\n",
    "            \n",
    "            ##append to df\n",
    "            metrics = metrics.append(model_stats, ignore_index=True)\n",
    "        \n",
    "        return metrics, splits\n",
    "    "
   ]
  },
  {
   "cell_type": "code",
   "execution_count": 184,
   "metadata": {},
   "outputs": [
    {
     "data": {
      "text/html": [
       "<div>\n",
       "<style scoped>\n",
       "    .dataframe tbody tr th:only-of-type {\n",
       "        vertical-align: middle;\n",
       "    }\n",
       "\n",
       "    .dataframe tbody tr th {\n",
       "        vertical-align: top;\n",
       "    }\n",
       "\n",
       "    .dataframe thead th {\n",
       "        text-align: right;\n",
       "    }\n",
       "</style>\n",
       "<table border=\"1\" class=\"dataframe\">\n",
       "  <thead>\n",
       "    <tr style=\"text-align: right;\">\n",
       "      <th></th>\n",
       "      <th>Accuracy</th>\n",
       "      <th>Precision</th>\n",
       "      <th>Recall</th>\n",
       "      <th>F1-Score</th>\n",
       "      <th>ROC_AUC Score</th>\n",
       "      <th>Log_loss</th>\n",
       "      <th>FPR</th>\n",
       "      <th>TPR</th>\n",
       "      <th>THR</th>\n",
       "      <th>pred</th>\n",
       "      <th>y_test</th>\n",
       "    </tr>\n",
       "  </thead>\n",
       "  <tbody>\n",
       "    <tr>\n",
       "      <th>0</th>\n",
       "      <td>0.817601</td>\n",
       "      <td>0.775268</td>\n",
       "      <td>0.728991</td>\n",
       "      <td>0.746024</td>\n",
       "      <td>0.728991</td>\n",
       "      <td>NaN</td>\n",
       "      <td>[0.0, 0.0821256038647343, 1.0]</td>\n",
       "      <td>[0.0, 0.5401069518716578, 1.0]</td>\n",
       "      <td>[2, 1, 0]</td>\n",
       "      <td>[0, 0, 0, 1, 0, 0, 0, 1, 0, 0, 1, 0, 0, 0, 0, ...</td>\n",
       "      <td>NaN</td>\n",
       "    </tr>\n",
       "    <tr>\n",
       "      <th>1</th>\n",
       "      <td>0.782115</td>\n",
       "      <td>0.719573</td>\n",
       "      <td>0.694590</td>\n",
       "      <td>0.704533</td>\n",
       "      <td>0.694590</td>\n",
       "      <td>NaN</td>\n",
       "      <td>[0.0, 0.11884057971014493, 1.0]</td>\n",
       "      <td>[0.0, 0.5080213903743316, 1.0]</td>\n",
       "      <td>[2, 1, 0]</td>\n",
       "      <td>[0, 0, 0, 1, 0, 0, 0, 0, 0, 0, 1, 0, 0, 0, 0, ...</td>\n",
       "      <td>NaN</td>\n",
       "    </tr>\n",
       "    <tr>\n",
       "      <th>2</th>\n",
       "      <td>0.798439</td>\n",
       "      <td>0.744297</td>\n",
       "      <td>0.709971</td>\n",
       "      <td>0.723086</td>\n",
       "      <td>0.709971</td>\n",
       "      <td>NaN</td>\n",
       "      <td>[0.0, 0.10144927536231885, 1.0]</td>\n",
       "      <td>[0.0, 0.5213903743315508, 1.0]</td>\n",
       "      <td>[2, 1, 0]</td>\n",
       "      <td>[0, 0, 0, 1, 0, 0, 0, 0, 0, 0, 1, 0, 0, 0, 0, ...</td>\n",
       "      <td>NaN</td>\n",
       "    </tr>\n",
       "  </tbody>\n",
       "</table>\n",
       "</div>"
      ],
      "text/plain": [
       "   Accuracy  Precision    Recall  F1-Score  ROC_AUC Score  Log_loss  \\\n",
       "0  0.817601   0.775268  0.728991  0.746024       0.728991       NaN   \n",
       "1  0.782115   0.719573  0.694590  0.704533       0.694590       NaN   \n",
       "2  0.798439   0.744297  0.709971  0.723086       0.709971       NaN   \n",
       "\n",
       "                               FPR                             TPR        THR  \\\n",
       "0   [0.0, 0.0821256038647343, 1.0]  [0.0, 0.5401069518716578, 1.0]  [2, 1, 0]   \n",
       "1  [0.0, 0.11884057971014493, 1.0]  [0.0, 0.5080213903743316, 1.0]  [2, 1, 0]   \n",
       "2  [0.0, 0.10144927536231885, 1.0]  [0.0, 0.5213903743315508, 1.0]  [2, 1, 0]   \n",
       "\n",
       "                                                pred  y_test  \n",
       "0  [0, 0, 0, 1, 0, 0, 0, 1, 0, 0, 1, 0, 0, 0, 0, ...     NaN  \n",
       "1  [0, 0, 0, 1, 0, 0, 0, 0, 0, 0, 1, 0, 0, 0, 0, ...     NaN  \n",
       "2  [0, 0, 0, 1, 0, 0, 0, 0, 0, 0, 1, 0, 0, 0, 0, ...     NaN  "
      ]
     },
     "execution_count": 184,
     "metadata": {},
     "output_type": "execute_result"
    }
   ],
   "source": [
    "metrics"
   ]
  },
  {
   "cell_type": "code",
   "execution_count": 177,
   "metadata": {
    "scrolled": true
   },
   "outputs": [
    {
     "name": "stdout",
     "output_type": "stream",
     "text": [
      "Training model\n",
      "Learning rate set to 0.030653\n",
      "0:\tlearn: 0.6711976\ttotal: 28.7ms\tremaining: 28.7s\n",
      "1:\tlearn: 0.6512216\ttotal: 56ms\tremaining: 28s\n",
      "2:\tlearn: 0.6353201\ttotal: 68.8ms\tremaining: 22.9s\n",
      "3:\tlearn: 0.6191176\ttotal: 89.5ms\tremaining: 22.3s\n",
      "4:\tlearn: 0.6033633\ttotal: 124ms\tremaining: 24.6s\n",
      "5:\tlearn: 0.5899817\ttotal: 153ms\tremaining: 25.4s\n",
      "6:\tlearn: 0.5771255\ttotal: 179ms\tremaining: 25.4s\n",
      "7:\tlearn: 0.5653687\ttotal: 201ms\tremaining: 24.9s\n",
      "8:\tlearn: 0.5546388\ttotal: 224ms\tremaining: 24.6s\n",
      "9:\tlearn: 0.5447495\ttotal: 240ms\tremaining: 23.7s\n",
      "10:\tlearn: 0.5356594\ttotal: 261ms\tremaining: 23.5s\n",
      "11:\tlearn: 0.5271512\ttotal: 284ms\tremaining: 23.3s\n",
      "12:\tlearn: 0.5194650\ttotal: 307ms\tremaining: 23.3s\n",
      "13:\tlearn: 0.5133422\ttotal: 331ms\tremaining: 23.3s\n",
      "14:\tlearn: 0.5068693\ttotal: 357ms\tremaining: 23.4s\n",
      "15:\tlearn: 0.5008085\ttotal: 380ms\tremaining: 23.4s\n",
      "16:\tlearn: 0.4956492\ttotal: 390ms\tremaining: 22.6s\n",
      "17:\tlearn: 0.4903355\ttotal: 406ms\tremaining: 22.1s\n",
      "18:\tlearn: 0.4857202\ttotal: 428ms\tremaining: 22.1s\n",
      "19:\tlearn: 0.4816923\ttotal: 450ms\tremaining: 22.1s\n",
      "20:\tlearn: 0.4772317\ttotal: 473ms\tremaining: 22.1s\n",
      "21:\tlearn: 0.4734147\ttotal: 495ms\tremaining: 22s\n",
      "22:\tlearn: 0.4692915\ttotal: 516ms\tremaining: 21.9s\n",
      "23:\tlearn: 0.4655583\ttotal: 538ms\tremaining: 21.9s\n",
      "24:\tlearn: 0.4630341\ttotal: 557ms\tremaining: 21.7s\n",
      "25:\tlearn: 0.4598929\ttotal: 579ms\tremaining: 21.7s\n",
      "26:\tlearn: 0.4574993\ttotal: 592ms\tremaining: 21.3s\n",
      "27:\tlearn: 0.4549606\ttotal: 613ms\tremaining: 21.3s\n",
      "28:\tlearn: 0.4525096\ttotal: 634ms\tremaining: 21.2s\n",
      "29:\tlearn: 0.4500943\ttotal: 657ms\tremaining: 21.2s\n",
      "30:\tlearn: 0.4475470\ttotal: 679ms\tremaining: 21.2s\n",
      "31:\tlearn: 0.4448526\ttotal: 701ms\tremaining: 21.2s\n",
      "32:\tlearn: 0.4425584\ttotal: 724ms\tremaining: 21.2s\n",
      "33:\tlearn: 0.4409730\ttotal: 746ms\tremaining: 21.2s\n",
      "34:\tlearn: 0.4390836\ttotal: 775ms\tremaining: 21.4s\n",
      "35:\tlearn: 0.4369322\ttotal: 801ms\tremaining: 21.4s\n",
      "36:\tlearn: 0.4351563\ttotal: 823ms\tremaining: 21.4s\n",
      "37:\tlearn: 0.4336135\ttotal: 846ms\tremaining: 21.4s\n",
      "38:\tlearn: 0.4324410\ttotal: 862ms\tremaining: 21.2s\n",
      "39:\tlearn: 0.4310404\ttotal: 884ms\tremaining: 21.2s\n",
      "40:\tlearn: 0.4296748\ttotal: 907ms\tremaining: 21.2s\n",
      "41:\tlearn: 0.4284555\ttotal: 927ms\tremaining: 21.2s\n",
      "42:\tlearn: 0.4269329\ttotal: 950ms\tremaining: 21.2s\n",
      "43:\tlearn: 0.4258479\ttotal: 974ms\tremaining: 21.2s\n",
      "44:\tlearn: 0.4247695\ttotal: 997ms\tremaining: 21.2s\n",
      "45:\tlearn: 0.4240367\ttotal: 1.01s\tremaining: 20.9s\n",
      "46:\tlearn: 0.4228861\ttotal: 1.03s\tremaining: 21s\n",
      "47:\tlearn: 0.4219424\ttotal: 1.06s\tremaining: 21s\n",
      "48:\tlearn: 0.4209597\ttotal: 1.08s\tremaining: 21s\n",
      "49:\tlearn: 0.4203459\ttotal: 1.1s\tremaining: 20.8s\n",
      "50:\tlearn: 0.4196158\ttotal: 1.12s\tremaining: 20.8s\n",
      "51:\tlearn: 0.4188684\ttotal: 1.13s\tremaining: 20.7s\n",
      "52:\tlearn: 0.4180574\ttotal: 1.16s\tremaining: 20.7s\n",
      "53:\tlearn: 0.4172103\ttotal: 1.18s\tremaining: 20.6s\n",
      "54:\tlearn: 0.4167951\ttotal: 1.19s\tremaining: 20.4s\n",
      "55:\tlearn: 0.4160041\ttotal: 1.21s\tremaining: 20.4s\n",
      "56:\tlearn: 0.4150973\ttotal: 1.23s\tremaining: 20.4s\n",
      "57:\tlearn: 0.4143562\ttotal: 1.26s\tremaining: 20.4s\n",
      "58:\tlearn: 0.4136367\ttotal: 1.28s\tremaining: 20.4s\n",
      "59:\tlearn: 0.4130949\ttotal: 1.3s\tremaining: 20.4s\n",
      "60:\tlearn: 0.4127266\ttotal: 1.31s\tremaining: 20.2s\n",
      "61:\tlearn: 0.4120438\ttotal: 1.33s\tremaining: 20.2s\n",
      "62:\tlearn: 0.4117034\ttotal: 1.34s\tremaining: 20s\n",
      "63:\tlearn: 0.4111783\ttotal: 1.37s\tremaining: 20.1s\n",
      "64:\tlearn: 0.4107574\ttotal: 1.39s\tremaining: 20s\n",
      "65:\tlearn: 0.4102031\ttotal: 1.41s\tremaining: 20s\n",
      "66:\tlearn: 0.4097416\ttotal: 1.44s\tremaining: 20s\n",
      "67:\tlearn: 0.4094697\ttotal: 1.44s\tremaining: 19.8s\n",
      "68:\tlearn: 0.4089680\ttotal: 1.47s\tremaining: 19.8s\n",
      "69:\tlearn: 0.4085964\ttotal: 1.49s\tremaining: 19.7s\n",
      "70:\tlearn: 0.4082286\ttotal: 1.51s\tremaining: 19.8s\n",
      "71:\tlearn: 0.4077505\ttotal: 1.53s\tremaining: 19.7s\n",
      "72:\tlearn: 0.4075712\ttotal: 1.54s\tremaining: 19.6s\n",
      "73:\tlearn: 0.4071207\ttotal: 1.55s\tremaining: 19.5s\n",
      "74:\tlearn: 0.4067212\ttotal: 1.58s\tremaining: 19.5s\n",
      "75:\tlearn: 0.4063864\ttotal: 1.6s\tremaining: 19.5s\n",
      "76:\tlearn: 0.4060415\ttotal: 1.64s\tremaining: 19.6s\n",
      "77:\tlearn: 0.4057753\ttotal: 1.66s\tremaining: 19.7s\n",
      "78:\tlearn: 0.4055905\ttotal: 1.7s\tremaining: 19.8s\n",
      "79:\tlearn: 0.4052422\ttotal: 1.73s\tremaining: 19.9s\n",
      "80:\tlearn: 0.4050857\ttotal: 1.76s\tremaining: 20s\n",
      "81:\tlearn: 0.4045676\ttotal: 1.8s\tremaining: 20.1s\n",
      "82:\tlearn: 0.4042892\ttotal: 1.82s\tremaining: 20.1s\n",
      "83:\tlearn: 0.4042447\ttotal: 1.83s\tremaining: 20s\n",
      "84:\tlearn: 0.4037699\ttotal: 1.86s\tremaining: 20s\n",
      "85:\tlearn: 0.4034923\ttotal: 1.88s\tremaining: 20s\n",
      "86:\tlearn: 0.4030929\ttotal: 1.92s\tremaining: 20.1s\n",
      "87:\tlearn: 0.4028138\ttotal: 1.94s\tremaining: 20.1s\n",
      "88:\tlearn: 0.4024823\ttotal: 1.97s\tremaining: 20.2s\n",
      "89:\tlearn: 0.4021842\ttotal: 2s\tremaining: 20.2s\n",
      "90:\tlearn: 0.4020740\ttotal: 2.01s\tremaining: 20.1s\n",
      "91:\tlearn: 0.4019527\ttotal: 2.03s\tremaining: 20.1s\n",
      "92:\tlearn: 0.4018258\ttotal: 2.04s\tremaining: 19.9s\n",
      "93:\tlearn: 0.4017002\ttotal: 2.06s\tremaining: 19.8s\n",
      "94:\tlearn: 0.4016020\ttotal: 2.06s\tremaining: 19.7s\n",
      "95:\tlearn: 0.4014410\ttotal: 2.08s\tremaining: 19.5s\n",
      "96:\tlearn: 0.4012202\ttotal: 2.1s\tremaining: 19.5s\n",
      "97:\tlearn: 0.4009293\ttotal: 2.12s\tremaining: 19.5s\n",
      "98:\tlearn: 0.4008814\ttotal: 2.14s\tremaining: 19.5s\n",
      "99:\tlearn: 0.4005463\ttotal: 2.16s\tremaining: 19.5s\n",
      "100:\tlearn: 0.4003730\ttotal: 2.17s\tremaining: 19.4s\n",
      "101:\tlearn: 0.4003300\ttotal: 2.2s\tremaining: 19.4s\n",
      "102:\tlearn: 0.4001320\ttotal: 2.24s\tremaining: 19.5s\n",
      "103:\tlearn: 0.3998218\ttotal: 2.27s\tremaining: 19.6s\n",
      "104:\tlearn: 0.3996203\ttotal: 2.31s\tremaining: 19.6s\n",
      "105:\tlearn: 0.3995668\ttotal: 2.32s\tremaining: 19.6s\n",
      "106:\tlearn: 0.3995022\ttotal: 2.34s\tremaining: 19.5s\n",
      "107:\tlearn: 0.3992021\ttotal: 2.37s\tremaining: 19.6s\n",
      "108:\tlearn: 0.3989747\ttotal: 2.4s\tremaining: 19.6s\n",
      "109:\tlearn: 0.3986954\ttotal: 2.43s\tremaining: 19.6s\n",
      "110:\tlearn: 0.3985024\ttotal: 2.45s\tremaining: 19.6s\n",
      "111:\tlearn: 0.3984798\ttotal: 2.46s\tremaining: 19.5s\n",
      "112:\tlearn: 0.3983826\ttotal: 2.47s\tremaining: 19.4s\n",
      "113:\tlearn: 0.3983120\ttotal: 2.48s\tremaining: 19.3s\n",
      "114:\tlearn: 0.3981142\ttotal: 2.5s\tremaining: 19.3s\n",
      "115:\tlearn: 0.3978217\ttotal: 2.52s\tremaining: 19.2s\n",
      "116:\tlearn: 0.3977342\ttotal: 2.54s\tremaining: 19.2s\n",
      "117:\tlearn: 0.3977098\ttotal: 2.55s\tremaining: 19.1s\n",
      "118:\tlearn: 0.3975724\ttotal: 2.58s\tremaining: 19.1s\n",
      "119:\tlearn: 0.3973440\ttotal: 2.6s\tremaining: 19.1s\n",
      "120:\tlearn: 0.3973316\ttotal: 2.61s\tremaining: 19s\n",
      "121:\tlearn: 0.3971866\ttotal: 2.65s\tremaining: 19.1s\n",
      "122:\tlearn: 0.3969690\ttotal: 2.68s\tremaining: 19.1s\n",
      "123:\tlearn: 0.3968276\ttotal: 2.71s\tremaining: 19.1s\n",
      "124:\tlearn: 0.3966877\ttotal: 2.73s\tremaining: 19.1s\n",
      "125:\tlearn: 0.3964230\ttotal: 2.75s\tremaining: 19s\n",
      "126:\tlearn: 0.3963123\ttotal: 2.76s\tremaining: 19s\n",
      "127:\tlearn: 0.3961174\ttotal: 2.8s\tremaining: 19.1s\n",
      "128:\tlearn: 0.3960741\ttotal: 2.83s\tremaining: 19.1s\n",
      "129:\tlearn: 0.3960339\ttotal: 2.86s\tremaining: 19.1s\n",
      "130:\tlearn: 0.3959070\ttotal: 2.88s\tremaining: 19.1s\n",
      "131:\tlearn: 0.3958215\ttotal: 2.92s\tremaining: 19.2s\n",
      "132:\tlearn: 0.3957195\ttotal: 2.95s\tremaining: 19.2s\n",
      "133:\tlearn: 0.3956545\ttotal: 2.96s\tremaining: 19.1s\n",
      "134:\tlearn: 0.3956389\ttotal: 2.96s\tremaining: 19s\n",
      "135:\tlearn: 0.3955293\ttotal: 2.99s\tremaining: 19s\n",
      "136:\tlearn: 0.3954478\ttotal: 3.01s\tremaining: 19s\n",
      "137:\tlearn: 0.3953596\ttotal: 3.03s\tremaining: 19s\n",
      "138:\tlearn: 0.3951761\ttotal: 3.06s\tremaining: 19s\n",
      "139:\tlearn: 0.3949563\ttotal: 3.09s\tremaining: 19s\n",
      "140:\tlearn: 0.3949070\ttotal: 3.1s\tremaining: 18.9s\n",
      "141:\tlearn: 0.3948427\ttotal: 3.13s\tremaining: 18.9s\n",
      "142:\tlearn: 0.3947398\ttotal: 3.17s\tremaining: 19s\n",
      "143:\tlearn: 0.3946494\ttotal: 3.2s\tremaining: 19s\n",
      "144:\tlearn: 0.3942765\ttotal: 3.23s\tremaining: 19s\n",
      "145:\tlearn: 0.3940143\ttotal: 3.25s\tremaining: 19s\n",
      "146:\tlearn: 0.3939118\ttotal: 3.29s\tremaining: 19.1s\n",
      "147:\tlearn: 0.3938207\ttotal: 3.32s\tremaining: 19.1s\n",
      "148:\tlearn: 0.3938162\ttotal: 3.33s\tremaining: 19s\n",
      "149:\tlearn: 0.3937186\ttotal: 3.35s\tremaining: 19s\n",
      "150:\tlearn: 0.3936576\ttotal: 3.37s\tremaining: 19s\n",
      "151:\tlearn: 0.3935907\ttotal: 3.39s\tremaining: 18.9s\n",
      "152:\tlearn: 0.3935189\ttotal: 3.41s\tremaining: 18.9s\n",
      "153:\tlearn: 0.3934498\ttotal: 3.43s\tremaining: 18.8s\n",
      "154:\tlearn: 0.3933648\ttotal: 3.45s\tremaining: 18.8s\n",
      "155:\tlearn: 0.3933560\ttotal: 3.46s\tremaining: 18.7s\n",
      "156:\tlearn: 0.3931393\ttotal: 3.48s\tremaining: 18.7s\n",
      "157:\tlearn: 0.3930580\ttotal: 3.5s\tremaining: 18.7s\n",
      "158:\tlearn: 0.3928516\ttotal: 3.52s\tremaining: 18.6s\n",
      "159:\tlearn: 0.3927804\ttotal: 3.54s\tremaining: 18.6s\n",
      "160:\tlearn: 0.3927762\ttotal: 3.55s\tremaining: 18.5s\n",
      "161:\tlearn: 0.3927508\ttotal: 3.56s\tremaining: 18.4s\n",
      "162:\tlearn: 0.3926785\ttotal: 3.57s\tremaining: 18.4s\n",
      "163:\tlearn: 0.3926334\ttotal: 3.6s\tremaining: 18.3s\n",
      "164:\tlearn: 0.3925962\ttotal: 3.62s\tremaining: 18.3s\n",
      "165:\tlearn: 0.3925210\ttotal: 3.64s\tremaining: 18.3s\n",
      "166:\tlearn: 0.3924613\ttotal: 3.66s\tremaining: 18.3s\n",
      "167:\tlearn: 0.3924604\ttotal: 3.67s\tremaining: 18.2s\n",
      "168:\tlearn: 0.3923803\ttotal: 3.69s\tremaining: 18.2s\n"
     ]
    },
    {
     "name": "stdout",
     "output_type": "stream",
     "text": [
      "169:\tlearn: 0.3922637\ttotal: 3.72s\tremaining: 18.1s\n",
      "170:\tlearn: 0.3921320\ttotal: 3.75s\tremaining: 18.2s\n",
      "171:\tlearn: 0.3920433\ttotal: 3.77s\tremaining: 18.1s\n",
      "172:\tlearn: 0.3919537\ttotal: 3.79s\tremaining: 18.1s\n",
      "173:\tlearn: 0.3918971\ttotal: 3.81s\tremaining: 18.1s\n",
      "174:\tlearn: 0.3917413\ttotal: 3.83s\tremaining: 18.1s\n",
      "175:\tlearn: 0.3917166\ttotal: 3.86s\tremaining: 18.1s\n",
      "176:\tlearn: 0.3914979\ttotal: 3.89s\tremaining: 18.1s\n",
      "177:\tlearn: 0.3912132\ttotal: 3.93s\tremaining: 18.1s\n",
      "178:\tlearn: 0.3912092\ttotal: 3.94s\tremaining: 18.1s\n",
      "179:\tlearn: 0.3910635\ttotal: 3.97s\tremaining: 18.1s\n",
      "180:\tlearn: 0.3909493\ttotal: 3.99s\tremaining: 18.1s\n",
      "181:\tlearn: 0.3906608\ttotal: 4.02s\tremaining: 18.1s\n",
      "182:\tlearn: 0.3906220\ttotal: 4.04s\tremaining: 18.1s\n",
      "183:\tlearn: 0.3904285\ttotal: 4.07s\tremaining: 18.1s\n",
      "184:\tlearn: 0.3904258\ttotal: 4.08s\tremaining: 18s\n",
      "185:\tlearn: 0.3903952\ttotal: 4.1s\tremaining: 17.9s\n",
      "186:\tlearn: 0.3903706\ttotal: 4.12s\tremaining: 17.9s\n",
      "187:\tlearn: 0.3903673\ttotal: 4.14s\tremaining: 17.9s\n",
      "188:\tlearn: 0.3903259\ttotal: 4.15s\tremaining: 17.8s\n",
      "189:\tlearn: 0.3903232\ttotal: 4.17s\tremaining: 17.8s\n",
      "190:\tlearn: 0.3901950\ttotal: 4.2s\tremaining: 17.8s\n",
      "191:\tlearn: 0.3901784\ttotal: 4.22s\tremaining: 17.8s\n",
      "192:\tlearn: 0.3901637\ttotal: 4.24s\tremaining: 17.7s\n",
      "193:\tlearn: 0.3900810\ttotal: 4.26s\tremaining: 17.7s\n",
      "194:\tlearn: 0.3900221\ttotal: 4.28s\tremaining: 17.7s\n",
      "195:\tlearn: 0.3899637\ttotal: 4.3s\tremaining: 17.6s\n",
      "196:\tlearn: 0.3899617\ttotal: 4.31s\tremaining: 17.6s\n",
      "197:\tlearn: 0.3899567\ttotal: 4.32s\tremaining: 17.5s\n",
      "198:\tlearn: 0.3899358\ttotal: 4.34s\tremaining: 17.5s\n",
      "199:\tlearn: 0.3898875\ttotal: 4.35s\tremaining: 17.4s\n",
      "200:\tlearn: 0.3898230\ttotal: 4.37s\tremaining: 17.4s\n",
      "201:\tlearn: 0.3897705\ttotal: 4.39s\tremaining: 17.3s\n",
      "202:\tlearn: 0.3897400\ttotal: 4.4s\tremaining: 17.3s\n",
      "203:\tlearn: 0.3897117\ttotal: 4.41s\tremaining: 17.2s\n",
      "204:\tlearn: 0.3897013\ttotal: 4.43s\tremaining: 17.2s\n",
      "205:\tlearn: 0.3896951\ttotal: 4.44s\tremaining: 17.1s\n",
      "206:\tlearn: 0.3896851\ttotal: 4.46s\tremaining: 17.1s\n",
      "207:\tlearn: 0.3896794\ttotal: 4.47s\tremaining: 17s\n",
      "208:\tlearn: 0.3896416\ttotal: 4.49s\tremaining: 17s\n",
      "209:\tlearn: 0.3896396\ttotal: 4.5s\tremaining: 16.9s\n",
      "210:\tlearn: 0.3896368\ttotal: 4.51s\tremaining: 16.9s\n",
      "211:\tlearn: 0.3896291\ttotal: 4.52s\tremaining: 16.8s\n",
      "212:\tlearn: 0.3896175\ttotal: 4.54s\tremaining: 16.8s\n",
      "213:\tlearn: 0.3896155\ttotal: 4.54s\tremaining: 16.7s\n",
      "214:\tlearn: 0.3895818\ttotal: 4.57s\tremaining: 16.7s\n",
      "215:\tlearn: 0.3895793\ttotal: 4.58s\tremaining: 16.6s\n",
      "216:\tlearn: 0.3895119\ttotal: 4.59s\tremaining: 16.6s\n",
      "217:\tlearn: 0.3894656\ttotal: 4.62s\tremaining: 16.6s\n",
      "218:\tlearn: 0.3894631\ttotal: 4.63s\tremaining: 16.5s\n",
      "219:\tlearn: 0.3893641\ttotal: 4.65s\tremaining: 16.5s\n",
      "220:\tlearn: 0.3893620\ttotal: 4.66s\tremaining: 16.4s\n",
      "221:\tlearn: 0.3893580\ttotal: 4.67s\tremaining: 16.4s\n",
      "222:\tlearn: 0.3893578\ttotal: 4.68s\tremaining: 16.3s\n",
      "223:\tlearn: 0.3893458\ttotal: 4.68s\tremaining: 16.2s\n",
      "224:\tlearn: 0.3893442\ttotal: 4.7s\tremaining: 16.2s\n",
      "225:\tlearn: 0.3893267\ttotal: 4.72s\tremaining: 16.2s\n",
      "226:\tlearn: 0.3893139\ttotal: 4.73s\tremaining: 16.1s\n",
      "227:\tlearn: 0.3892407\ttotal: 4.75s\tremaining: 16.1s\n",
      "228:\tlearn: 0.3891976\ttotal: 4.77s\tremaining: 16.1s\n",
      "229:\tlearn: 0.3891400\ttotal: 4.79s\tremaining: 16s\n",
      "230:\tlearn: 0.3890126\ttotal: 4.81s\tremaining: 16s\n",
      "231:\tlearn: 0.3889849\ttotal: 4.83s\tremaining: 16s\n",
      "232:\tlearn: 0.3888923\ttotal: 4.85s\tremaining: 16s\n",
      "233:\tlearn: 0.3888376\ttotal: 4.87s\tremaining: 15.9s\n",
      "234:\tlearn: 0.3887732\ttotal: 4.88s\tremaining: 15.9s\n",
      "235:\tlearn: 0.3886904\ttotal: 4.9s\tremaining: 15.9s\n",
      "236:\tlearn: 0.3886902\ttotal: 4.91s\tremaining: 15.8s\n",
      "237:\tlearn: 0.3886710\ttotal: 4.93s\tremaining: 15.8s\n",
      "238:\tlearn: 0.3886640\ttotal: 4.95s\tremaining: 15.7s\n",
      "239:\tlearn: 0.3884950\ttotal: 4.97s\tremaining: 15.7s\n",
      "240:\tlearn: 0.3884842\ttotal: 4.98s\tremaining: 15.7s\n",
      "241:\tlearn: 0.3884393\ttotal: 5s\tremaining: 15.7s\n",
      "242:\tlearn: 0.3884039\ttotal: 5.02s\tremaining: 15.6s\n",
      "243:\tlearn: 0.3884023\ttotal: 5.03s\tremaining: 15.6s\n",
      "244:\tlearn: 0.3883604\ttotal: 5.05s\tremaining: 15.6s\n",
      "245:\tlearn: 0.3883577\ttotal: 5.06s\tremaining: 15.5s\n",
      "246:\tlearn: 0.3882978\ttotal: 5.08s\tremaining: 15.5s\n",
      "247:\tlearn: 0.3882707\ttotal: 5.1s\tremaining: 15.5s\n",
      "248:\tlearn: 0.3881329\ttotal: 5.12s\tremaining: 15.4s\n",
      "249:\tlearn: 0.3881005\ttotal: 5.14s\tremaining: 15.4s\n",
      "250:\tlearn: 0.3880997\ttotal: 5.15s\tremaining: 15.4s\n",
      "251:\tlearn: 0.3880792\ttotal: 5.17s\tremaining: 15.3s\n",
      "252:\tlearn: 0.3880610\ttotal: 5.19s\tremaining: 15.3s\n",
      "253:\tlearn: 0.3880378\ttotal: 5.21s\tremaining: 15.3s\n",
      "254:\tlearn: 0.3879330\ttotal: 5.23s\tremaining: 15.3s\n",
      "255:\tlearn: 0.3878338\ttotal: 5.24s\tremaining: 15.2s\n",
      "256:\tlearn: 0.3878336\ttotal: 5.25s\tremaining: 15.2s\n",
      "257:\tlearn: 0.3877410\ttotal: 5.27s\tremaining: 15.2s\n",
      "258:\tlearn: 0.3876453\ttotal: 5.3s\tremaining: 15.2s\n",
      "259:\tlearn: 0.3876403\ttotal: 5.33s\tremaining: 15.2s\n",
      "260:\tlearn: 0.3875664\ttotal: 5.36s\tremaining: 15.2s\n",
      "261:\tlearn: 0.3875323\ttotal: 5.38s\tremaining: 15.2s\n",
      "262:\tlearn: 0.3874729\ttotal: 5.41s\tremaining: 15.2s\n",
      "263:\tlearn: 0.3873561\ttotal: 5.44s\tremaining: 15.2s\n",
      "264:\tlearn: 0.3873250\ttotal: 5.46s\tremaining: 15.2s\n",
      "265:\tlearn: 0.3872450\ttotal: 5.5s\tremaining: 15.2s\n",
      "266:\tlearn: 0.3872365\ttotal: 5.53s\tremaining: 15.2s\n",
      "267:\tlearn: 0.3872288\ttotal: 5.54s\tremaining: 15.1s\n",
      "268:\tlearn: 0.3872277\ttotal: 5.56s\tremaining: 15.1s\n",
      "269:\tlearn: 0.3871950\ttotal: 5.57s\tremaining: 15.1s\n",
      "270:\tlearn: 0.3871802\ttotal: 5.59s\tremaining: 15s\n",
      "271:\tlearn: 0.3871669\ttotal: 5.6s\tremaining: 15s\n",
      "272:\tlearn: 0.3871315\ttotal: 5.63s\tremaining: 15s\n",
      "273:\tlearn: 0.3870707\ttotal: 5.66s\tremaining: 15s\n",
      "274:\tlearn: 0.3869221\ttotal: 5.68s\tremaining: 15s\n",
      "275:\tlearn: 0.3868933\ttotal: 5.7s\tremaining: 15s\n",
      "276:\tlearn: 0.3868920\ttotal: 5.71s\tremaining: 14.9s\n",
      "277:\tlearn: 0.3868674\ttotal: 5.74s\tremaining: 14.9s\n",
      "278:\tlearn: 0.3867384\ttotal: 5.76s\tremaining: 14.9s\n",
      "279:\tlearn: 0.3866512\ttotal: 5.78s\tremaining: 14.9s\n",
      "280:\tlearn: 0.3866227\ttotal: 5.79s\tremaining: 14.8s\n",
      "281:\tlearn: 0.3866028\ttotal: 5.81s\tremaining: 14.8s\n",
      "282:\tlearn: 0.3864132\ttotal: 5.84s\tremaining: 14.8s\n",
      "283:\tlearn: 0.3863639\ttotal: 5.87s\tremaining: 14.8s\n",
      "284:\tlearn: 0.3863546\ttotal: 5.89s\tremaining: 14.8s\n",
      "285:\tlearn: 0.3863538\ttotal: 5.91s\tremaining: 14.7s\n",
      "286:\tlearn: 0.3863009\ttotal: 5.94s\tremaining: 14.8s\n",
      "287:\tlearn: 0.3862267\ttotal: 5.96s\tremaining: 14.7s\n",
      "288:\tlearn: 0.3862260\ttotal: 5.97s\tremaining: 14.7s\n",
      "289:\tlearn: 0.3860591\ttotal: 6s\tremaining: 14.7s\n",
      "290:\tlearn: 0.3858799\ttotal: 6.03s\tremaining: 14.7s\n",
      "291:\tlearn: 0.3858791\ttotal: 6.06s\tremaining: 14.7s\n",
      "292:\tlearn: 0.3858790\ttotal: 6.08s\tremaining: 14.7s\n",
      "293:\tlearn: 0.3858609\ttotal: 6.09s\tremaining: 14.6s\n",
      "294:\tlearn: 0.3858244\ttotal: 6.13s\tremaining: 14.7s\n",
      "295:\tlearn: 0.3858102\ttotal: 6.14s\tremaining: 14.6s\n",
      "296:\tlearn: 0.3858080\ttotal: 6.16s\tremaining: 14.6s\n",
      "297:\tlearn: 0.3858052\ttotal: 6.18s\tremaining: 14.6s\n",
      "298:\tlearn: 0.3856755\ttotal: 6.21s\tremaining: 14.6s\n",
      "299:\tlearn: 0.3856750\ttotal: 6.22s\tremaining: 14.5s\n",
      "300:\tlearn: 0.3856003\ttotal: 6.25s\tremaining: 14.5s\n",
      "301:\tlearn: 0.3855800\ttotal: 6.27s\tremaining: 14.5s\n",
      "302:\tlearn: 0.3855253\ttotal: 6.29s\tremaining: 14.5s\n",
      "303:\tlearn: 0.3855087\ttotal: 6.31s\tremaining: 14.4s\n",
      "304:\tlearn: 0.3855085\ttotal: 6.31s\tremaining: 14.4s\n",
      "305:\tlearn: 0.3854711\ttotal: 6.33s\tremaining: 14.3s\n",
      "306:\tlearn: 0.3854711\ttotal: 6.33s\tremaining: 14.3s\n",
      "307:\tlearn: 0.3854315\ttotal: 6.36s\tremaining: 14.3s\n",
      "308:\tlearn: 0.3853718\ttotal: 6.38s\tremaining: 14.3s\n",
      "309:\tlearn: 0.3853716\ttotal: 6.39s\tremaining: 14.2s\n",
      "310:\tlearn: 0.3853217\ttotal: 6.41s\tremaining: 14.2s\n",
      "311:\tlearn: 0.3852747\ttotal: 6.43s\tremaining: 14.2s\n",
      "312:\tlearn: 0.3852416\ttotal: 6.45s\tremaining: 14.2s\n",
      "313:\tlearn: 0.3851951\ttotal: 6.47s\tremaining: 14.1s\n",
      "314:\tlearn: 0.3850780\ttotal: 6.5s\tremaining: 14.1s\n",
      "315:\tlearn: 0.3849891\ttotal: 6.52s\tremaining: 14.1s\n",
      "316:\tlearn: 0.3849750\ttotal: 6.54s\tremaining: 14.1s\n",
      "317:\tlearn: 0.3849296\ttotal: 6.56s\tremaining: 14.1s\n",
      "318:\tlearn: 0.3848799\ttotal: 6.59s\tremaining: 14.1s\n",
      "319:\tlearn: 0.3848787\ttotal: 6.59s\tremaining: 14s\n",
      "320:\tlearn: 0.3848291\ttotal: 6.61s\tremaining: 14s\n",
      "321:\tlearn: 0.3847656\ttotal: 6.63s\tremaining: 14s\n",
      "322:\tlearn: 0.3847180\ttotal: 6.66s\tremaining: 14s\n",
      "323:\tlearn: 0.3846127\ttotal: 6.68s\tremaining: 13.9s\n",
      "324:\tlearn: 0.3846125\ttotal: 6.69s\tremaining: 13.9s\n",
      "325:\tlearn: 0.3845701\ttotal: 6.7s\tremaining: 13.9s\n",
      "326:\tlearn: 0.3845662\ttotal: 6.72s\tremaining: 13.8s\n",
      "327:\tlearn: 0.3845647\ttotal: 6.74s\tremaining: 13.8s\n",
      "328:\tlearn: 0.3844827\ttotal: 6.76s\tremaining: 13.8s\n",
      "329:\tlearn: 0.3844451\ttotal: 6.78s\tremaining: 13.8s\n",
      "330:\tlearn: 0.3843716\ttotal: 6.8s\tremaining: 13.8s\n",
      "331:\tlearn: 0.3842870\ttotal: 6.82s\tremaining: 13.7s\n",
      "332:\tlearn: 0.3842457\ttotal: 6.84s\tremaining: 13.7s\n",
      "333:\tlearn: 0.3842449\ttotal: 6.85s\tremaining: 13.7s\n",
      "334:\tlearn: 0.3842367\ttotal: 6.87s\tremaining: 13.6s\n"
     ]
    },
    {
     "name": "stdout",
     "output_type": "stream",
     "text": [
      "335:\tlearn: 0.3842366\ttotal: 6.88s\tremaining: 13.6s\n",
      "336:\tlearn: 0.3841543\ttotal: 6.91s\tremaining: 13.6s\n",
      "337:\tlearn: 0.3840179\ttotal: 6.94s\tremaining: 13.6s\n",
      "338:\tlearn: 0.3839926\ttotal: 6.96s\tremaining: 13.6s\n",
      "339:\tlearn: 0.3839355\ttotal: 7s\tremaining: 13.6s\n",
      "340:\tlearn: 0.3839078\ttotal: 7.03s\tremaining: 13.6s\n",
      "341:\tlearn: 0.3839055\ttotal: 7.05s\tremaining: 13.6s\n",
      "342:\tlearn: 0.3838553\ttotal: 7.08s\tremaining: 13.6s\n",
      "343:\tlearn: 0.3838552\ttotal: 7.09s\tremaining: 13.5s\n",
      "344:\tlearn: 0.3838477\ttotal: 7.11s\tremaining: 13.5s\n",
      "345:\tlearn: 0.3837381\ttotal: 7.14s\tremaining: 13.5s\n",
      "346:\tlearn: 0.3837187\ttotal: 7.15s\tremaining: 13.5s\n",
      "347:\tlearn: 0.3835214\ttotal: 7.17s\tremaining: 13.4s\n",
      "348:\tlearn: 0.3835210\ttotal: 7.19s\tremaining: 13.4s\n",
      "349:\tlearn: 0.3835168\ttotal: 7.2s\tremaining: 13.4s\n",
      "350:\tlearn: 0.3835165\ttotal: 7.21s\tremaining: 13.3s\n",
      "351:\tlearn: 0.3835119\ttotal: 7.23s\tremaining: 13.3s\n",
      "352:\tlearn: 0.3834934\ttotal: 7.25s\tremaining: 13.3s\n",
      "353:\tlearn: 0.3834912\ttotal: 7.26s\tremaining: 13.2s\n",
      "354:\tlearn: 0.3834821\ttotal: 7.28s\tremaining: 13.2s\n",
      "355:\tlearn: 0.3834787\ttotal: 7.29s\tremaining: 13.2s\n",
      "356:\tlearn: 0.3834281\ttotal: 7.31s\tremaining: 13.2s\n",
      "357:\tlearn: 0.3833942\ttotal: 7.33s\tremaining: 13.1s\n",
      "358:\tlearn: 0.3833646\ttotal: 7.35s\tremaining: 13.1s\n",
      "359:\tlearn: 0.3833618\ttotal: 7.36s\tremaining: 13.1s\n",
      "360:\tlearn: 0.3833528\ttotal: 7.38s\tremaining: 13.1s\n",
      "361:\tlearn: 0.3833159\ttotal: 7.4s\tremaining: 13s\n",
      "362:\tlearn: 0.3832607\ttotal: 7.42s\tremaining: 13s\n",
      "363:\tlearn: 0.3831633\ttotal: 7.45s\tremaining: 13s\n",
      "364:\tlearn: 0.3831632\ttotal: 7.46s\tremaining: 13s\n",
      "365:\tlearn: 0.3830550\ttotal: 7.48s\tremaining: 13s\n",
      "366:\tlearn: 0.3830017\ttotal: 7.5s\tremaining: 12.9s\n",
      "367:\tlearn: 0.3829890\ttotal: 7.53s\tremaining: 12.9s\n",
      "368:\tlearn: 0.3829873\ttotal: 7.53s\tremaining: 12.9s\n",
      "369:\tlearn: 0.3829107\ttotal: 7.56s\tremaining: 12.9s\n",
      "370:\tlearn: 0.3829106\ttotal: 7.57s\tremaining: 12.8s\n",
      "371:\tlearn: 0.3828039\ttotal: 7.59s\tremaining: 12.8s\n",
      "372:\tlearn: 0.3828002\ttotal: 7.62s\tremaining: 12.8s\n",
      "373:\tlearn: 0.3827951\ttotal: 7.64s\tremaining: 12.8s\n",
      "374:\tlearn: 0.3827949\ttotal: 7.65s\tremaining: 12.8s\n",
      "375:\tlearn: 0.3827949\ttotal: 7.66s\tremaining: 12.7s\n",
      "376:\tlearn: 0.3827041\ttotal: 7.69s\tremaining: 12.7s\n",
      "377:\tlearn: 0.3826321\ttotal: 7.71s\tremaining: 12.7s\n",
      "378:\tlearn: 0.3825758\ttotal: 7.74s\tremaining: 12.7s\n",
      "379:\tlearn: 0.3825376\ttotal: 7.76s\tremaining: 12.7s\n",
      "380:\tlearn: 0.3825357\ttotal: 7.77s\tremaining: 12.6s\n",
      "381:\tlearn: 0.3824145\ttotal: 7.8s\tremaining: 12.6s\n",
      "382:\tlearn: 0.3823327\ttotal: 7.83s\tremaining: 12.6s\n",
      "383:\tlearn: 0.3823325\ttotal: 7.85s\tremaining: 12.6s\n",
      "384:\tlearn: 0.3822654\ttotal: 7.87s\tremaining: 12.6s\n",
      "385:\tlearn: 0.3822369\ttotal: 7.9s\tremaining: 12.6s\n",
      "386:\tlearn: 0.3822271\ttotal: 7.92s\tremaining: 12.5s\n",
      "387:\tlearn: 0.3822053\ttotal: 7.94s\tremaining: 12.5s\n",
      "388:\tlearn: 0.3820816\ttotal: 7.96s\tremaining: 12.5s\n",
      "389:\tlearn: 0.3820081\ttotal: 7.98s\tremaining: 12.5s\n",
      "390:\tlearn: 0.3820080\ttotal: 7.99s\tremaining: 12.4s\n",
      "391:\tlearn: 0.3819967\ttotal: 8.01s\tremaining: 12.4s\n",
      "392:\tlearn: 0.3819159\ttotal: 8.03s\tremaining: 12.4s\n",
      "393:\tlearn: 0.3819158\ttotal: 8.04s\tremaining: 12.4s\n",
      "394:\tlearn: 0.3818544\ttotal: 8.06s\tremaining: 12.3s\n",
      "395:\tlearn: 0.3818203\ttotal: 8.08s\tremaining: 12.3s\n",
      "396:\tlearn: 0.3818203\ttotal: 8.09s\tremaining: 12.3s\n",
      "397:\tlearn: 0.3818193\ttotal: 8.1s\tremaining: 12.3s\n",
      "398:\tlearn: 0.3817297\ttotal: 8.12s\tremaining: 12.2s\n",
      "399:\tlearn: 0.3817225\ttotal: 8.14s\tremaining: 12.2s\n",
      "400:\tlearn: 0.3817152\ttotal: 8.16s\tremaining: 12.2s\n",
      "401:\tlearn: 0.3817003\ttotal: 8.19s\tremaining: 12.2s\n",
      "402:\tlearn: 0.3817000\ttotal: 8.2s\tremaining: 12.1s\n",
      "403:\tlearn: 0.3816943\ttotal: 8.22s\tremaining: 12.1s\n",
      "404:\tlearn: 0.3816265\ttotal: 8.24s\tremaining: 12.1s\n",
      "405:\tlearn: 0.3816249\ttotal: 8.25s\tremaining: 12.1s\n",
      "406:\tlearn: 0.3816113\ttotal: 8.26s\tremaining: 12s\n",
      "407:\tlearn: 0.3815952\ttotal: 8.29s\tremaining: 12s\n",
      "408:\tlearn: 0.3815675\ttotal: 8.31s\tremaining: 12s\n",
      "409:\tlearn: 0.3815674\ttotal: 8.32s\tremaining: 12s\n",
      "410:\tlearn: 0.3815469\ttotal: 8.34s\tremaining: 12s\n",
      "411:\tlearn: 0.3815192\ttotal: 8.36s\tremaining: 11.9s\n",
      "412:\tlearn: 0.3814431\ttotal: 8.38s\tremaining: 11.9s\n",
      "413:\tlearn: 0.3814220\ttotal: 8.41s\tremaining: 11.9s\n",
      "414:\tlearn: 0.3814042\ttotal: 8.43s\tremaining: 11.9s\n",
      "415:\tlearn: 0.3812904\ttotal: 8.45s\tremaining: 11.9s\n",
      "416:\tlearn: 0.3811909\ttotal: 8.48s\tremaining: 11.8s\n",
      "417:\tlearn: 0.3811644\ttotal: 8.5s\tremaining: 11.8s\n",
      "418:\tlearn: 0.3811415\ttotal: 8.52s\tremaining: 11.8s\n",
      "419:\tlearn: 0.3810155\ttotal: 8.54s\tremaining: 11.8s\n",
      "420:\tlearn: 0.3810155\ttotal: 8.55s\tremaining: 11.8s\n",
      "421:\tlearn: 0.3809926\ttotal: 8.58s\tremaining: 11.7s\n",
      "422:\tlearn: 0.3809916\ttotal: 8.59s\tremaining: 11.7s\n",
      "423:\tlearn: 0.3809165\ttotal: 8.61s\tremaining: 11.7s\n",
      "424:\tlearn: 0.3808823\ttotal: 8.64s\tremaining: 11.7s\n",
      "425:\tlearn: 0.3808405\ttotal: 8.66s\tremaining: 11.7s\n",
      "426:\tlearn: 0.3807844\ttotal: 8.69s\tremaining: 11.7s\n",
      "427:\tlearn: 0.3807840\ttotal: 8.71s\tremaining: 11.6s\n",
      "428:\tlearn: 0.3807685\ttotal: 8.74s\tremaining: 11.6s\n",
      "429:\tlearn: 0.3807682\ttotal: 8.76s\tremaining: 11.6s\n",
      "430:\tlearn: 0.3807386\ttotal: 8.79s\tremaining: 11.6s\n",
      "431:\tlearn: 0.3806834\ttotal: 8.82s\tremaining: 11.6s\n",
      "432:\tlearn: 0.3806523\ttotal: 8.86s\tremaining: 11.6s\n",
      "433:\tlearn: 0.3806413\ttotal: 8.88s\tremaining: 11.6s\n",
      "434:\tlearn: 0.3806376\ttotal: 8.9s\tremaining: 11.6s\n",
      "435:\tlearn: 0.3806057\ttotal: 8.93s\tremaining: 11.6s\n",
      "436:\tlearn: 0.3805288\ttotal: 8.96s\tremaining: 11.5s\n",
      "437:\tlearn: 0.3805116\ttotal: 8.98s\tremaining: 11.5s\n",
      "438:\tlearn: 0.3804871\ttotal: 9.01s\tremaining: 11.5s\n",
      "439:\tlearn: 0.3804653\ttotal: 9.03s\tremaining: 11.5s\n",
      "440:\tlearn: 0.3804248\ttotal: 9.05s\tremaining: 11.5s\n",
      "441:\tlearn: 0.3803802\ttotal: 9.08s\tremaining: 11.5s\n",
      "442:\tlearn: 0.3803669\ttotal: 9.1s\tremaining: 11.4s\n",
      "443:\tlearn: 0.3803650\ttotal: 9.13s\tremaining: 11.4s\n",
      "444:\tlearn: 0.3803616\ttotal: 9.14s\tremaining: 11.4s\n",
      "445:\tlearn: 0.3803611\ttotal: 9.15s\tremaining: 11.4s\n",
      "446:\tlearn: 0.3802339\ttotal: 9.18s\tremaining: 11.4s\n",
      "447:\tlearn: 0.3802323\ttotal: 9.2s\tremaining: 11.3s\n",
      "448:\tlearn: 0.3802323\ttotal: 9.21s\tremaining: 11.3s\n",
      "449:\tlearn: 0.3802317\ttotal: 9.23s\tremaining: 11.3s\n",
      "450:\tlearn: 0.3802214\ttotal: 9.24s\tremaining: 11.2s\n",
      "451:\tlearn: 0.3802212\ttotal: 9.25s\tremaining: 11.2s\n",
      "452:\tlearn: 0.3801429\ttotal: 9.28s\tremaining: 11.2s\n",
      "453:\tlearn: 0.3801416\ttotal: 9.3s\tremaining: 11.2s\n",
      "454:\tlearn: 0.3801093\ttotal: 9.32s\tremaining: 11.2s\n",
      "455:\tlearn: 0.3801092\ttotal: 9.34s\tremaining: 11.1s\n",
      "456:\tlearn: 0.3800921\ttotal: 9.37s\tremaining: 11.1s\n",
      "457:\tlearn: 0.3800041\ttotal: 9.4s\tremaining: 11.1s\n",
      "458:\tlearn: 0.3800028\ttotal: 9.42s\tremaining: 11.1s\n",
      "459:\tlearn: 0.3799064\ttotal: 9.45s\tremaining: 11.1s\n",
      "460:\tlearn: 0.3798966\ttotal: 9.47s\tremaining: 11.1s\n",
      "461:\tlearn: 0.3798964\ttotal: 9.48s\tremaining: 11s\n",
      "462:\tlearn: 0.3798963\ttotal: 9.49s\tremaining: 11s\n",
      "463:\tlearn: 0.3797378\ttotal: 9.51s\tremaining: 11s\n",
      "464:\tlearn: 0.3796979\ttotal: 9.54s\tremaining: 11s\n",
      "465:\tlearn: 0.3796938\ttotal: 9.55s\tremaining: 10.9s\n",
      "466:\tlearn: 0.3796282\ttotal: 9.57s\tremaining: 10.9s\n",
      "467:\tlearn: 0.3796215\ttotal: 9.58s\tremaining: 10.9s\n",
      "468:\tlearn: 0.3795972\ttotal: 9.63s\tremaining: 10.9s\n",
      "469:\tlearn: 0.3795127\ttotal: 9.65s\tremaining: 10.9s\n",
      "470:\tlearn: 0.3795127\ttotal: 9.66s\tremaining: 10.8s\n",
      "471:\tlearn: 0.3795127\ttotal: 9.67s\tremaining: 10.8s\n",
      "472:\tlearn: 0.3794744\ttotal: 9.7s\tremaining: 10.8s\n",
      "473:\tlearn: 0.3794196\ttotal: 9.73s\tremaining: 10.8s\n",
      "474:\tlearn: 0.3794195\ttotal: 9.74s\tremaining: 10.8s\n",
      "475:\tlearn: 0.3793971\ttotal: 9.77s\tremaining: 10.8s\n",
      "476:\tlearn: 0.3793962\ttotal: 9.78s\tremaining: 10.7s\n",
      "477:\tlearn: 0.3793295\ttotal: 9.81s\tremaining: 10.7s\n",
      "478:\tlearn: 0.3793161\ttotal: 9.84s\tremaining: 10.7s\n",
      "479:\tlearn: 0.3792837\ttotal: 9.87s\tremaining: 10.7s\n",
      "480:\tlearn: 0.3792395\ttotal: 9.9s\tremaining: 10.7s\n",
      "481:\tlearn: 0.3792356\ttotal: 9.92s\tremaining: 10.7s\n",
      "482:\tlearn: 0.3791894\ttotal: 9.95s\tremaining: 10.6s\n",
      "483:\tlearn: 0.3791890\ttotal: 9.97s\tremaining: 10.6s\n",
      "484:\tlearn: 0.3791874\ttotal: 10s\tremaining: 10.6s\n",
      "485:\tlearn: 0.3790720\ttotal: 10s\tremaining: 10.6s\n",
      "486:\tlearn: 0.3790502\ttotal: 10.1s\tremaining: 10.6s\n",
      "487:\tlearn: 0.3790216\ttotal: 10.1s\tremaining: 10.6s\n",
      "488:\tlearn: 0.3790213\ttotal: 10.1s\tremaining: 10.6s\n",
      "489:\tlearn: 0.3789279\ttotal: 10.1s\tremaining: 10.5s\n",
      "490:\tlearn: 0.3788175\ttotal: 10.1s\tremaining: 10.5s\n",
      "491:\tlearn: 0.3787429\ttotal: 10.2s\tremaining: 10.5s\n",
      "492:\tlearn: 0.3786765\ttotal: 10.2s\tremaining: 10.5s\n",
      "493:\tlearn: 0.3786739\ttotal: 10.2s\tremaining: 10.5s\n",
      "494:\tlearn: 0.3785033\ttotal: 10.2s\tremaining: 10.4s\n",
      "495:\tlearn: 0.3784870\ttotal: 10.3s\tremaining: 10.4s\n"
     ]
    },
    {
     "name": "stdout",
     "output_type": "stream",
     "text": [
      "496:\tlearn: 0.3784838\ttotal: 10.3s\tremaining: 10.4s\n",
      "497:\tlearn: 0.3783755\ttotal: 10.3s\tremaining: 10.4s\n",
      "498:\tlearn: 0.3783030\ttotal: 10.3s\tremaining: 10.4s\n",
      "499:\tlearn: 0.3783010\ttotal: 10.3s\tremaining: 10.3s\n",
      "500:\tlearn: 0.3782896\ttotal: 10.4s\tremaining: 10.3s\n",
      "501:\tlearn: 0.3780599\ttotal: 10.4s\tremaining: 10.3s\n",
      "502:\tlearn: 0.3780593\ttotal: 10.4s\tremaining: 10.3s\n",
      "503:\tlearn: 0.3780101\ttotal: 10.4s\tremaining: 10.3s\n",
      "504:\tlearn: 0.3780101\ttotal: 10.4s\tremaining: 10.2s\n",
      "505:\tlearn: 0.3780086\ttotal: 10.4s\tremaining: 10.2s\n",
      "506:\tlearn: 0.3779371\ttotal: 10.5s\tremaining: 10.2s\n",
      "507:\tlearn: 0.3779371\ttotal: 10.5s\tremaining: 10.1s\n",
      "508:\tlearn: 0.3777674\ttotal: 10.5s\tremaining: 10.1s\n",
      "509:\tlearn: 0.3777641\ttotal: 10.5s\tremaining: 10.1s\n",
      "510:\tlearn: 0.3777350\ttotal: 10.6s\tremaining: 10.1s\n",
      "511:\tlearn: 0.3777285\ttotal: 10.6s\tremaining: 10.1s\n",
      "512:\tlearn: 0.3777282\ttotal: 10.6s\tremaining: 10.1s\n",
      "513:\tlearn: 0.3777151\ttotal: 10.7s\tremaining: 10.1s\n",
      "514:\tlearn: 0.3776812\ttotal: 10.7s\tremaining: 10.1s\n",
      "515:\tlearn: 0.3776159\ttotal: 10.7s\tremaining: 10.1s\n",
      "516:\tlearn: 0.3776005\ttotal: 10.8s\tremaining: 10.1s\n",
      "517:\tlearn: 0.3775992\ttotal: 10.8s\tremaining: 10s\n",
      "518:\tlearn: 0.3775991\ttotal: 10.8s\tremaining: 10s\n",
      "519:\tlearn: 0.3775558\ttotal: 10.8s\tremaining: 10s\n",
      "520:\tlearn: 0.3774811\ttotal: 10.9s\tremaining: 9.99s\n",
      "521:\tlearn: 0.3773602\ttotal: 10.9s\tremaining: 9.98s\n",
      "522:\tlearn: 0.3773348\ttotal: 10.9s\tremaining: 9.96s\n",
      "523:\tlearn: 0.3772373\ttotal: 10.9s\tremaining: 9.94s\n",
      "524:\tlearn: 0.3772254\ttotal: 11s\tremaining: 9.92s\n",
      "525:\tlearn: 0.3771656\ttotal: 11s\tremaining: 9.9s\n",
      "526:\tlearn: 0.3770834\ttotal: 11s\tremaining: 9.88s\n",
      "527:\tlearn: 0.3770576\ttotal: 11s\tremaining: 9.86s\n",
      "528:\tlearn: 0.3770427\ttotal: 11s\tremaining: 9.83s\n",
      "529:\tlearn: 0.3770158\ttotal: 11.1s\tremaining: 9.81s\n",
      "530:\tlearn: 0.3769798\ttotal: 11.1s\tremaining: 9.8s\n",
      "531:\tlearn: 0.3769172\ttotal: 11.1s\tremaining: 9.78s\n",
      "532:\tlearn: 0.3768653\ttotal: 11.1s\tremaining: 9.76s\n",
      "533:\tlearn: 0.3768253\ttotal: 11.2s\tremaining: 9.74s\n",
      "534:\tlearn: 0.3768213\ttotal: 11.2s\tremaining: 9.72s\n",
      "535:\tlearn: 0.3768054\ttotal: 11.2s\tremaining: 9.7s\n",
      "536:\tlearn: 0.3767422\ttotal: 11.2s\tremaining: 9.68s\n",
      "537:\tlearn: 0.3766907\ttotal: 11.2s\tremaining: 9.66s\n",
      "538:\tlearn: 0.3766901\ttotal: 11.3s\tremaining: 9.63s\n",
      "539:\tlearn: 0.3766901\ttotal: 11.3s\tremaining: 9.6s\n",
      "540:\tlearn: 0.3766887\ttotal: 11.3s\tremaining: 9.57s\n",
      "541:\tlearn: 0.3766431\ttotal: 11.3s\tremaining: 9.55s\n",
      "542:\tlearn: 0.3765863\ttotal: 11.3s\tremaining: 9.53s\n",
      "543:\tlearn: 0.3765794\ttotal: 11.3s\tremaining: 9.51s\n",
      "544:\tlearn: 0.3765794\ttotal: 11.3s\tremaining: 9.47s\n",
      "545:\tlearn: 0.3765691\ttotal: 11.4s\tremaining: 9.46s\n",
      "546:\tlearn: 0.3765605\ttotal: 11.4s\tremaining: 9.43s\n",
      "547:\tlearn: 0.3765284\ttotal: 11.4s\tremaining: 9.41s\n",
      "548:\tlearn: 0.3765269\ttotal: 11.4s\tremaining: 9.38s\n",
      "549:\tlearn: 0.3765268\ttotal: 11.4s\tremaining: 9.35s\n",
      "550:\tlearn: 0.3764898\ttotal: 11.5s\tremaining: 9.33s\n",
      "551:\tlearn: 0.3763918\ttotal: 11.5s\tremaining: 9.31s\n",
      "552:\tlearn: 0.3763916\ttotal: 11.5s\tremaining: 9.29s\n",
      "553:\tlearn: 0.3763745\ttotal: 11.5s\tremaining: 9.27s\n",
      "554:\tlearn: 0.3763016\ttotal: 11.5s\tremaining: 9.24s\n",
      "555:\tlearn: 0.3762849\ttotal: 11.6s\tremaining: 9.23s\n",
      "556:\tlearn: 0.3761936\ttotal: 11.6s\tremaining: 9.21s\n",
      "557:\tlearn: 0.3761907\ttotal: 11.6s\tremaining: 9.18s\n",
      "558:\tlearn: 0.3761804\ttotal: 11.6s\tremaining: 9.16s\n",
      "559:\tlearn: 0.3761742\ttotal: 11.6s\tremaining: 9.14s\n",
      "560:\tlearn: 0.3761540\ttotal: 11.7s\tremaining: 9.12s\n",
      "561:\tlearn: 0.3761165\ttotal: 11.7s\tremaining: 9.1s\n",
      "562:\tlearn: 0.3760027\ttotal: 11.7s\tremaining: 9.08s\n",
      "563:\tlearn: 0.3760026\ttotal: 11.7s\tremaining: 9.05s\n",
      "564:\tlearn: 0.3759646\ttotal: 11.7s\tremaining: 9.04s\n",
      "565:\tlearn: 0.3759570\ttotal: 11.8s\tremaining: 9.01s\n",
      "566:\tlearn: 0.3759048\ttotal: 11.8s\tremaining: 8.99s\n",
      "567:\tlearn: 0.3758539\ttotal: 11.8s\tremaining: 8.98s\n",
      "568:\tlearn: 0.3758340\ttotal: 11.8s\tremaining: 8.96s\n",
      "569:\tlearn: 0.3757147\ttotal: 11.8s\tremaining: 8.94s\n",
      "570:\tlearn: 0.3757035\ttotal: 11.9s\tremaining: 8.92s\n",
      "571:\tlearn: 0.3756697\ttotal: 11.9s\tremaining: 8.9s\n",
      "572:\tlearn: 0.3756145\ttotal: 11.9s\tremaining: 8.88s\n",
      "573:\tlearn: 0.3755098\ttotal: 11.9s\tremaining: 8.86s\n",
      "574:\tlearn: 0.3754916\ttotal: 12s\tremaining: 8.85s\n",
      "575:\tlearn: 0.3754757\ttotal: 12s\tremaining: 8.82s\n",
      "576:\tlearn: 0.3754165\ttotal: 12s\tremaining: 8.8s\n",
      "577:\tlearn: 0.3753724\ttotal: 12s\tremaining: 8.78s\n",
      "578:\tlearn: 0.3753684\ttotal: 12s\tremaining: 8.76s\n",
      "579:\tlearn: 0.3753683\ttotal: 12.1s\tremaining: 8.73s\n",
      "580:\tlearn: 0.3753525\ttotal: 12.1s\tremaining: 8.71s\n",
      "581:\tlearn: 0.3753525\ttotal: 12.1s\tremaining: 8.68s\n",
      "582:\tlearn: 0.3753373\ttotal: 12.1s\tremaining: 8.66s\n",
      "583:\tlearn: 0.3751887\ttotal: 12.1s\tremaining: 8.64s\n",
      "584:\tlearn: 0.3751160\ttotal: 12.2s\tremaining: 8.62s\n",
      "585:\tlearn: 0.3751160\ttotal: 12.2s\tremaining: 8.59s\n",
      "586:\tlearn: 0.3751150\ttotal: 12.2s\tremaining: 8.56s\n",
      "587:\tlearn: 0.3751149\ttotal: 12.2s\tremaining: 8.54s\n",
      "588:\tlearn: 0.3750907\ttotal: 12.2s\tremaining: 8.52s\n",
      "589:\tlearn: 0.3750851\ttotal: 12.2s\tremaining: 8.49s\n",
      "590:\tlearn: 0.3750197\ttotal: 12.2s\tremaining: 8.47s\n",
      "591:\tlearn: 0.3750195\ttotal: 12.2s\tremaining: 8.44s\n",
      "592:\tlearn: 0.3750098\ttotal: 12.3s\tremaining: 8.42s\n",
      "593:\tlearn: 0.3749961\ttotal: 12.3s\tremaining: 8.4s\n",
      "594:\tlearn: 0.3749818\ttotal: 12.3s\tremaining: 8.38s\n",
      "595:\tlearn: 0.3749759\ttotal: 12.3s\tremaining: 8.35s\n",
      "596:\tlearn: 0.3749476\ttotal: 12.3s\tremaining: 8.33s\n",
      "597:\tlearn: 0.3749286\ttotal: 12.4s\tremaining: 8.31s\n",
      "598:\tlearn: 0.3748041\ttotal: 12.4s\tremaining: 8.29s\n",
      "599:\tlearn: 0.3747915\ttotal: 12.4s\tremaining: 8.27s\n",
      "600:\tlearn: 0.3747915\ttotal: 12.4s\tremaining: 8.24s\n",
      "601:\tlearn: 0.3747902\ttotal: 12.4s\tremaining: 8.22s\n",
      "602:\tlearn: 0.3747895\ttotal: 12.4s\tremaining: 8.19s\n",
      "603:\tlearn: 0.3747331\ttotal: 12.5s\tremaining: 8.17s\n",
      "604:\tlearn: 0.3747330\ttotal: 12.5s\tremaining: 8.14s\n",
      "605:\tlearn: 0.3747330\ttotal: 12.5s\tremaining: 8.11s\n",
      "606:\tlearn: 0.3747330\ttotal: 12.5s\tremaining: 8.08s\n",
      "607:\tlearn: 0.3746676\ttotal: 12.5s\tremaining: 8.06s\n",
      "608:\tlearn: 0.3746675\ttotal: 12.5s\tremaining: 8.04s\n",
      "609:\tlearn: 0.3746491\ttotal: 12.5s\tremaining: 8.02s\n",
      "610:\tlearn: 0.3746383\ttotal: 12.6s\tremaining: 8s\n",
      "611:\tlearn: 0.3745685\ttotal: 12.6s\tremaining: 7.98s\n",
      "612:\tlearn: 0.3745617\ttotal: 12.6s\tremaining: 7.96s\n",
      "613:\tlearn: 0.3745612\ttotal: 12.6s\tremaining: 7.94s\n",
      "614:\tlearn: 0.3745374\ttotal: 12.6s\tremaining: 7.92s\n",
      "615:\tlearn: 0.3745373\ttotal: 12.7s\tremaining: 7.89s\n",
      "616:\tlearn: 0.3745340\ttotal: 12.7s\tremaining: 7.86s\n",
      "617:\tlearn: 0.3745042\ttotal: 12.7s\tremaining: 7.84s\n",
      "618:\tlearn: 0.3745042\ttotal: 12.7s\tremaining: 7.82s\n",
      "619:\tlearn: 0.3745042\ttotal: 12.7s\tremaining: 7.79s\n",
      "620:\tlearn: 0.3744944\ttotal: 12.7s\tremaining: 7.77s\n",
      "621:\tlearn: 0.3744598\ttotal: 12.7s\tremaining: 7.75s\n",
      "622:\tlearn: 0.3743302\ttotal: 12.8s\tremaining: 7.73s\n",
      "623:\tlearn: 0.3742524\ttotal: 12.8s\tremaining: 7.71s\n",
      "624:\tlearn: 0.3742515\ttotal: 12.8s\tremaining: 7.68s\n",
      "625:\tlearn: 0.3741917\ttotal: 12.8s\tremaining: 7.66s\n",
      "626:\tlearn: 0.3741911\ttotal: 12.8s\tremaining: 7.63s\n",
      "627:\tlearn: 0.3741081\ttotal: 12.9s\tremaining: 7.62s\n",
      "628:\tlearn: 0.3740657\ttotal: 12.9s\tremaining: 7.59s\n",
      "629:\tlearn: 0.3740386\ttotal: 12.9s\tremaining: 7.58s\n",
      "630:\tlearn: 0.3740314\ttotal: 12.9s\tremaining: 7.55s\n",
      "631:\tlearn: 0.3740174\ttotal: 12.9s\tremaining: 7.53s\n",
      "632:\tlearn: 0.3739987\ttotal: 13s\tremaining: 7.51s\n",
      "633:\tlearn: 0.3739610\ttotal: 13s\tremaining: 7.49s\n",
      "634:\tlearn: 0.3739143\ttotal: 13s\tremaining: 7.47s\n",
      "635:\tlearn: 0.3738678\ttotal: 13s\tremaining: 7.45s\n",
      "636:\tlearn: 0.3738678\ttotal: 13s\tremaining: 7.42s\n",
      "637:\tlearn: 0.3738248\ttotal: 13.1s\tremaining: 7.41s\n",
      "638:\tlearn: 0.3738064\ttotal: 13.1s\tremaining: 7.38s\n",
      "639:\tlearn: 0.3738039\ttotal: 13.1s\tremaining: 7.36s\n",
      "640:\tlearn: 0.3737281\ttotal: 13.1s\tremaining: 7.34s\n",
      "641:\tlearn: 0.3737231\ttotal: 13.1s\tremaining: 7.32s\n",
      "642:\tlearn: 0.3736847\ttotal: 13.1s\tremaining: 7.3s\n",
      "643:\tlearn: 0.3735696\ttotal: 13.2s\tremaining: 7.28s\n",
      "644:\tlearn: 0.3734722\ttotal: 13.2s\tremaining: 7.26s\n",
      "645:\tlearn: 0.3734288\ttotal: 13.2s\tremaining: 7.24s\n",
      "646:\tlearn: 0.3732461\ttotal: 13.2s\tremaining: 7.22s\n",
      "647:\tlearn: 0.3732187\ttotal: 13.3s\tremaining: 7.2s\n",
      "648:\tlearn: 0.3732174\ttotal: 13.3s\tremaining: 7.18s\n",
      "649:\tlearn: 0.3732167\ttotal: 13.3s\tremaining: 7.15s\n",
      "650:\tlearn: 0.3731988\ttotal: 13.3s\tremaining: 7.13s\n",
      "651:\tlearn: 0.3731611\ttotal: 13.3s\tremaining: 7.11s\n",
      "652:\tlearn: 0.3731169\ttotal: 13.3s\tremaining: 7.09s\n",
      "653:\tlearn: 0.3731077\ttotal: 13.4s\tremaining: 7.07s\n",
      "654:\tlearn: 0.3730746\ttotal: 13.4s\tremaining: 7.05s\n"
     ]
    },
    {
     "name": "stdout",
     "output_type": "stream",
     "text": [
      "655:\tlearn: 0.3730528\ttotal: 13.4s\tremaining: 7.03s\n",
      "656:\tlearn: 0.3730522\ttotal: 13.4s\tremaining: 7.01s\n",
      "657:\tlearn: 0.3730133\ttotal: 13.4s\tremaining: 6.99s\n",
      "658:\tlearn: 0.3730009\ttotal: 13.5s\tremaining: 6.96s\n",
      "659:\tlearn: 0.3729425\ttotal: 13.5s\tremaining: 6.95s\n",
      "660:\tlearn: 0.3729365\ttotal: 13.5s\tremaining: 6.92s\n",
      "661:\tlearn: 0.3729365\ttotal: 13.5s\tremaining: 6.9s\n",
      "662:\tlearn: 0.3729330\ttotal: 13.5s\tremaining: 6.87s\n",
      "663:\tlearn: 0.3728165\ttotal: 13.5s\tremaining: 6.85s\n",
      "664:\tlearn: 0.3728032\ttotal: 13.6s\tremaining: 6.83s\n",
      "665:\tlearn: 0.3728000\ttotal: 13.6s\tremaining: 6.8s\n",
      "666:\tlearn: 0.3727999\ttotal: 13.6s\tremaining: 6.78s\n",
      "667:\tlearn: 0.3727931\ttotal: 13.6s\tremaining: 6.76s\n",
      "668:\tlearn: 0.3727513\ttotal: 13.6s\tremaining: 6.74s\n",
      "669:\tlearn: 0.3727474\ttotal: 13.6s\tremaining: 6.71s\n",
      "670:\tlearn: 0.3727470\ttotal: 13.6s\tremaining: 6.69s\n",
      "671:\tlearn: 0.3727312\ttotal: 13.7s\tremaining: 6.67s\n",
      "672:\tlearn: 0.3727271\ttotal: 13.7s\tremaining: 6.65s\n",
      "673:\tlearn: 0.3727265\ttotal: 13.7s\tremaining: 6.62s\n",
      "674:\tlearn: 0.3727238\ttotal: 13.7s\tremaining: 6.6s\n",
      "675:\tlearn: 0.3726900\ttotal: 13.7s\tremaining: 6.58s\n",
      "676:\tlearn: 0.3726883\ttotal: 13.7s\tremaining: 6.55s\n",
      "677:\tlearn: 0.3726851\ttotal: 13.8s\tremaining: 6.53s\n",
      "678:\tlearn: 0.3726794\ttotal: 13.8s\tremaining: 6.51s\n",
      "679:\tlearn: 0.3726756\ttotal: 13.8s\tremaining: 6.49s\n",
      "680:\tlearn: 0.3726355\ttotal: 13.8s\tremaining: 6.47s\n",
      "681:\tlearn: 0.3726297\ttotal: 13.8s\tremaining: 6.45s\n",
      "682:\tlearn: 0.3725279\ttotal: 13.9s\tremaining: 6.43s\n",
      "683:\tlearn: 0.3724864\ttotal: 13.9s\tremaining: 6.41s\n",
      "684:\tlearn: 0.3724442\ttotal: 13.9s\tremaining: 6.39s\n",
      "685:\tlearn: 0.3724435\ttotal: 13.9s\tremaining: 6.37s\n",
      "686:\tlearn: 0.3722865\ttotal: 13.9s\tremaining: 6.35s\n",
      "687:\tlearn: 0.3722306\ttotal: 13.9s\tremaining: 6.33s\n",
      "688:\tlearn: 0.3722176\ttotal: 14s\tremaining: 6.3s\n",
      "689:\tlearn: 0.3721698\ttotal: 14s\tremaining: 6.28s\n",
      "690:\tlearn: 0.3721552\ttotal: 14s\tremaining: 6.26s\n",
      "691:\tlearn: 0.3721487\ttotal: 14s\tremaining: 6.24s\n",
      "692:\tlearn: 0.3720023\ttotal: 14.1s\tremaining: 6.22s\n",
      "693:\tlearn: 0.3719961\ttotal: 14.1s\tremaining: 6.21s\n",
      "694:\tlearn: 0.3718720\ttotal: 14.1s\tremaining: 6.19s\n",
      "695:\tlearn: 0.3718577\ttotal: 14.1s\tremaining: 6.17s\n",
      "696:\tlearn: 0.3718409\ttotal: 14.1s\tremaining: 6.15s\n",
      "697:\tlearn: 0.3718218\ttotal: 14.2s\tremaining: 6.13s\n",
      "698:\tlearn: 0.3717936\ttotal: 14.2s\tremaining: 6.11s\n",
      "699:\tlearn: 0.3717926\ttotal: 14.2s\tremaining: 6.08s\n",
      "700:\tlearn: 0.3717504\ttotal: 14.2s\tremaining: 6.06s\n",
      "701:\tlearn: 0.3717263\ttotal: 14.2s\tremaining: 6.04s\n",
      "702:\tlearn: 0.3717070\ttotal: 14.3s\tremaining: 6.03s\n",
      "703:\tlearn: 0.3717031\ttotal: 14.3s\tremaining: 6s\n",
      "704:\tlearn: 0.3717025\ttotal: 14.3s\tremaining: 5.98s\n",
      "705:\tlearn: 0.3716880\ttotal: 14.3s\tremaining: 5.96s\n",
      "706:\tlearn: 0.3716873\ttotal: 14.3s\tremaining: 5.94s\n",
      "707:\tlearn: 0.3716813\ttotal: 14.4s\tremaining: 5.92s\n",
      "708:\tlearn: 0.3716808\ttotal: 14.4s\tremaining: 5.9s\n",
      "709:\tlearn: 0.3716191\ttotal: 14.4s\tremaining: 5.88s\n",
      "710:\tlearn: 0.3716148\ttotal: 14.4s\tremaining: 5.85s\n",
      "711:\tlearn: 0.3716147\ttotal: 14.4s\tremaining: 5.83s\n",
      "712:\tlearn: 0.3715614\ttotal: 14.4s\tremaining: 5.81s\n",
      "713:\tlearn: 0.3715417\ttotal: 14.4s\tremaining: 5.79s\n",
      "714:\tlearn: 0.3715415\ttotal: 14.5s\tremaining: 5.76s\n",
      "715:\tlearn: 0.3713691\ttotal: 14.5s\tremaining: 5.74s\n",
      "716:\tlearn: 0.3713684\ttotal: 14.5s\tremaining: 5.72s\n",
      "717:\tlearn: 0.3713679\ttotal: 14.5s\tremaining: 5.7s\n",
      "718:\tlearn: 0.3713677\ttotal: 14.5s\tremaining: 5.67s\n",
      "719:\tlearn: 0.3713673\ttotal: 14.5s\tremaining: 5.65s\n",
      "720:\tlearn: 0.3713322\ttotal: 14.6s\tremaining: 5.63s\n",
      "721:\tlearn: 0.3713322\ttotal: 14.6s\tremaining: 5.61s\n",
      "722:\tlearn: 0.3713255\ttotal: 14.6s\tremaining: 5.59s\n",
      "723:\tlearn: 0.3712360\ttotal: 14.6s\tremaining: 5.57s\n",
      "724:\tlearn: 0.3712045\ttotal: 14.6s\tremaining: 5.55s\n",
      "725:\tlearn: 0.3711633\ttotal: 14.6s\tremaining: 5.53s\n",
      "726:\tlearn: 0.3710865\ttotal: 14.7s\tremaining: 5.51s\n",
      "727:\tlearn: 0.3710853\ttotal: 14.7s\tremaining: 5.49s\n",
      "728:\tlearn: 0.3710849\ttotal: 14.7s\tremaining: 5.47s\n",
      "729:\tlearn: 0.3710816\ttotal: 14.7s\tremaining: 5.45s\n",
      "730:\tlearn: 0.3710518\ttotal: 14.8s\tremaining: 5.43s\n",
      "731:\tlearn: 0.3710387\ttotal: 14.8s\tremaining: 5.41s\n",
      "732:\tlearn: 0.3709581\ttotal: 14.8s\tremaining: 5.39s\n",
      "733:\tlearn: 0.3709303\ttotal: 14.8s\tremaining: 5.37s\n",
      "734:\tlearn: 0.3708403\ttotal: 14.8s\tremaining: 5.35s\n",
      "735:\tlearn: 0.3708399\ttotal: 14.8s\tremaining: 5.33s\n",
      "736:\tlearn: 0.3707803\ttotal: 14.9s\tremaining: 5.31s\n",
      "737:\tlearn: 0.3707551\ttotal: 14.9s\tremaining: 5.29s\n",
      "738:\tlearn: 0.3707424\ttotal: 14.9s\tremaining: 5.27s\n",
      "739:\tlearn: 0.3707419\ttotal: 14.9s\tremaining: 5.24s\n",
      "740:\tlearn: 0.3707173\ttotal: 14.9s\tremaining: 5.22s\n",
      "741:\tlearn: 0.3707168\ttotal: 15s\tremaining: 5.2s\n",
      "742:\tlearn: 0.3706976\ttotal: 15s\tremaining: 5.18s\n",
      "743:\tlearn: 0.3706959\ttotal: 15s\tremaining: 5.16s\n",
      "744:\tlearn: 0.3706872\ttotal: 15s\tremaining: 5.14s\n",
      "745:\tlearn: 0.3706855\ttotal: 15s\tremaining: 5.11s\n",
      "746:\tlearn: 0.3706449\ttotal: 15s\tremaining: 5.09s\n",
      "747:\tlearn: 0.3706271\ttotal: 15.1s\tremaining: 5.07s\n",
      "748:\tlearn: 0.3706267\ttotal: 15.1s\tremaining: 5.05s\n",
      "749:\tlearn: 0.3705677\ttotal: 15.1s\tremaining: 5.03s\n",
      "750:\tlearn: 0.3705614\ttotal: 15.1s\tremaining: 5.01s\n",
      "751:\tlearn: 0.3705609\ttotal: 15.1s\tremaining: 4.99s\n",
      "752:\tlearn: 0.3705260\ttotal: 15.2s\tremaining: 4.97s\n",
      "753:\tlearn: 0.3705136\ttotal: 15.2s\tremaining: 4.95s\n",
      "754:\tlearn: 0.3705031\ttotal: 15.2s\tremaining: 4.93s\n",
      "755:\tlearn: 0.3704275\ttotal: 15.2s\tremaining: 4.91s\n",
      "756:\tlearn: 0.3703514\ttotal: 15.2s\tremaining: 4.89s\n",
      "757:\tlearn: 0.3703425\ttotal: 15.3s\tremaining: 4.87s\n",
      "758:\tlearn: 0.3703422\ttotal: 15.3s\tremaining: 4.85s\n",
      "759:\tlearn: 0.3703265\ttotal: 15.3s\tremaining: 4.83s\n",
      "760:\tlearn: 0.3703242\ttotal: 15.3s\tremaining: 4.81s\n",
      "761:\tlearn: 0.3703024\ttotal: 15.3s\tremaining: 4.79s\n",
      "762:\tlearn: 0.3703020\ttotal: 15.4s\tremaining: 4.77s\n",
      "763:\tlearn: 0.3702865\ttotal: 15.4s\tremaining: 4.75s\n",
      "764:\tlearn: 0.3702489\ttotal: 15.4s\tremaining: 4.73s\n",
      "765:\tlearn: 0.3702419\ttotal: 15.4s\tremaining: 4.71s\n",
      "766:\tlearn: 0.3702414\ttotal: 15.4s\tremaining: 4.68s\n",
      "767:\tlearn: 0.3701785\ttotal: 15.5s\tremaining: 4.67s\n",
      "768:\tlearn: 0.3701755\ttotal: 15.5s\tremaining: 4.65s\n",
      "769:\tlearn: 0.3701239\ttotal: 15.5s\tremaining: 4.63s\n",
      "770:\tlearn: 0.3700826\ttotal: 15.5s\tremaining: 4.61s\n",
      "771:\tlearn: 0.3700822\ttotal: 15.5s\tremaining: 4.59s\n",
      "772:\tlearn: 0.3700417\ttotal: 15.6s\tremaining: 4.57s\n",
      "773:\tlearn: 0.3700277\ttotal: 15.6s\tremaining: 4.55s\n",
      "774:\tlearn: 0.3700199\ttotal: 15.6s\tremaining: 4.53s\n",
      "775:\tlearn: 0.3699693\ttotal: 15.6s\tremaining: 4.51s\n",
      "776:\tlearn: 0.3699657\ttotal: 15.6s\tremaining: 4.49s\n",
      "777:\tlearn: 0.3699571\ttotal: 15.7s\tremaining: 4.47s\n",
      "778:\tlearn: 0.3699507\ttotal: 15.7s\tremaining: 4.45s\n",
      "779:\tlearn: 0.3699150\ttotal: 15.7s\tremaining: 4.43s\n",
      "780:\tlearn: 0.3698945\ttotal: 15.7s\tremaining: 4.41s\n",
      "781:\tlearn: 0.3697895\ttotal: 15.8s\tremaining: 4.39s\n",
      "782:\tlearn: 0.3697857\ttotal: 15.8s\tremaining: 4.38s\n",
      "783:\tlearn: 0.3697758\ttotal: 15.8s\tremaining: 4.36s\n",
      "784:\tlearn: 0.3697730\ttotal: 15.8s\tremaining: 4.33s\n",
      "785:\tlearn: 0.3697726\ttotal: 15.8s\tremaining: 4.31s\n",
      "786:\tlearn: 0.3697726\ttotal: 15.8s\tremaining: 4.29s\n",
      "787:\tlearn: 0.3697352\ttotal: 15.9s\tremaining: 4.27s\n",
      "788:\tlearn: 0.3697202\ttotal: 15.9s\tremaining: 4.25s\n",
      "789:\tlearn: 0.3696730\ttotal: 15.9s\tremaining: 4.24s\n",
      "790:\tlearn: 0.3696572\ttotal: 16s\tremaining: 4.22s\n",
      "791:\tlearn: 0.3695939\ttotal: 16s\tremaining: 4.2s\n",
      "792:\tlearn: 0.3695912\ttotal: 16s\tremaining: 4.18s\n",
      "793:\tlearn: 0.3695768\ttotal: 16s\tremaining: 4.16s\n",
      "794:\tlearn: 0.3695609\ttotal: 16s\tremaining: 4.14s\n",
      "795:\tlearn: 0.3695414\ttotal: 16.1s\tremaining: 4.12s\n",
      "796:\tlearn: 0.3694963\ttotal: 16.1s\tremaining: 4.1s\n",
      "797:\tlearn: 0.3694936\ttotal: 16.1s\tremaining: 4.08s\n",
      "798:\tlearn: 0.3694865\ttotal: 16.1s\tremaining: 4.05s\n",
      "799:\tlearn: 0.3694312\ttotal: 16.2s\tremaining: 4.04s\n",
      "800:\tlearn: 0.3694300\ttotal: 16.2s\tremaining: 4.02s\n",
      "801:\tlearn: 0.3694135\ttotal: 16.2s\tremaining: 4s\n",
      "802:\tlearn: 0.3694132\ttotal: 16.2s\tremaining: 3.98s\n",
      "803:\tlearn: 0.3694025\ttotal: 16.3s\tremaining: 3.97s\n",
      "804:\tlearn: 0.3693965\ttotal: 16.3s\tremaining: 3.95s\n",
      "805:\tlearn: 0.3693912\ttotal: 16.3s\tremaining: 3.93s\n",
      "806:\tlearn: 0.3693702\ttotal: 16.4s\tremaining: 3.92s\n",
      "807:\tlearn: 0.3693641\ttotal: 16.4s\tremaining: 3.9s\n",
      "808:\tlearn: 0.3693639\ttotal: 16.4s\tremaining: 3.87s\n",
      "809:\tlearn: 0.3693621\ttotal: 16.4s\tremaining: 3.85s\n",
      "810:\tlearn: 0.3693430\ttotal: 16.5s\tremaining: 3.84s\n",
      "811:\tlearn: 0.3693371\ttotal: 16.5s\tremaining: 3.82s\n",
      "812:\tlearn: 0.3692757\ttotal: 16.5s\tremaining: 3.8s\n",
      "813:\tlearn: 0.3692669\ttotal: 16.5s\tremaining: 3.78s\n",
      "814:\tlearn: 0.3691869\ttotal: 16.6s\tremaining: 3.76s\n"
     ]
    },
    {
     "name": "stdout",
     "output_type": "stream",
     "text": [
      "815:\tlearn: 0.3691739\ttotal: 16.6s\tremaining: 3.74s\n",
      "816:\tlearn: 0.3691720\ttotal: 16.6s\tremaining: 3.72s\n",
      "817:\tlearn: 0.3691701\ttotal: 16.6s\tremaining: 3.7s\n",
      "818:\tlearn: 0.3691533\ttotal: 16.7s\tremaining: 3.68s\n",
      "819:\tlearn: 0.3691197\ttotal: 16.7s\tremaining: 3.67s\n",
      "820:\tlearn: 0.3691171\ttotal: 16.7s\tremaining: 3.65s\n",
      "821:\tlearn: 0.3690966\ttotal: 16.8s\tremaining: 3.63s\n",
      "822:\tlearn: 0.3690960\ttotal: 16.8s\tremaining: 3.6s\n",
      "823:\tlearn: 0.3690879\ttotal: 16.8s\tremaining: 3.59s\n",
      "824:\tlearn: 0.3690748\ttotal: 16.8s\tremaining: 3.57s\n",
      "825:\tlearn: 0.3690513\ttotal: 16.8s\tremaining: 3.55s\n",
      "826:\tlearn: 0.3690430\ttotal: 16.9s\tremaining: 3.53s\n",
      "827:\tlearn: 0.3690430\ttotal: 16.9s\tremaining: 3.51s\n",
      "828:\tlearn: 0.3689861\ttotal: 16.9s\tremaining: 3.49s\n",
      "829:\tlearn: 0.3689766\ttotal: 17s\tremaining: 3.47s\n",
      "830:\tlearn: 0.3689695\ttotal: 17s\tremaining: 3.45s\n",
      "831:\tlearn: 0.3689486\ttotal: 17s\tremaining: 3.43s\n",
      "832:\tlearn: 0.3689007\ttotal: 17s\tremaining: 3.41s\n",
      "833:\tlearn: 0.3688516\ttotal: 17s\tremaining: 3.39s\n",
      "834:\tlearn: 0.3688452\ttotal: 17.1s\tremaining: 3.37s\n",
      "835:\tlearn: 0.3688116\ttotal: 17.1s\tremaining: 3.35s\n",
      "836:\tlearn: 0.3687912\ttotal: 17.1s\tremaining: 3.33s\n",
      "837:\tlearn: 0.3687573\ttotal: 17.1s\tremaining: 3.31s\n",
      "838:\tlearn: 0.3687325\ttotal: 17.1s\tremaining: 3.29s\n",
      "839:\tlearn: 0.3687077\ttotal: 17.2s\tremaining: 3.27s\n",
      "840:\tlearn: 0.3687075\ttotal: 17.2s\tremaining: 3.24s\n",
      "841:\tlearn: 0.3687009\ttotal: 17.2s\tremaining: 3.22s\n",
      "842:\tlearn: 0.3686929\ttotal: 17.2s\tremaining: 3.2s\n",
      "843:\tlearn: 0.3686275\ttotal: 17.2s\tremaining: 3.18s\n",
      "844:\tlearn: 0.3685910\ttotal: 17.3s\tremaining: 3.17s\n",
      "845:\tlearn: 0.3684771\ttotal: 17.3s\tremaining: 3.15s\n",
      "846:\tlearn: 0.3684471\ttotal: 17.3s\tremaining: 3.13s\n",
      "847:\tlearn: 0.3684440\ttotal: 17.3s\tremaining: 3.1s\n",
      "848:\tlearn: 0.3684369\ttotal: 17.3s\tremaining: 3.08s\n",
      "849:\tlearn: 0.3683942\ttotal: 17.4s\tremaining: 3.06s\n",
      "850:\tlearn: 0.3683868\ttotal: 17.4s\tremaining: 3.04s\n",
      "851:\tlearn: 0.3683866\ttotal: 17.4s\tremaining: 3.02s\n",
      "852:\tlearn: 0.3683453\ttotal: 17.4s\tremaining: 3s\n",
      "853:\tlearn: 0.3683429\ttotal: 17.4s\tremaining: 2.98s\n",
      "854:\tlearn: 0.3683409\ttotal: 17.5s\tremaining: 2.96s\n",
      "855:\tlearn: 0.3683273\ttotal: 17.5s\tremaining: 2.94s\n",
      "856:\tlearn: 0.3682850\ttotal: 17.5s\tremaining: 2.92s\n",
      "857:\tlearn: 0.3682798\ttotal: 17.5s\tremaining: 2.9s\n",
      "858:\tlearn: 0.3682482\ttotal: 17.6s\tremaining: 2.88s\n",
      "859:\tlearn: 0.3681771\ttotal: 17.6s\tremaining: 2.86s\n",
      "860:\tlearn: 0.3681771\ttotal: 17.6s\tremaining: 2.84s\n",
      "861:\tlearn: 0.3681545\ttotal: 17.6s\tremaining: 2.82s\n",
      "862:\tlearn: 0.3681483\ttotal: 17.6s\tremaining: 2.8s\n",
      "863:\tlearn: 0.3681479\ttotal: 17.7s\tremaining: 2.78s\n",
      "864:\tlearn: 0.3681259\ttotal: 17.7s\tremaining: 2.76s\n",
      "865:\tlearn: 0.3680624\ttotal: 17.7s\tremaining: 2.75s\n",
      "866:\tlearn: 0.3680525\ttotal: 17.8s\tremaining: 2.73s\n",
      "867:\tlearn: 0.3680467\ttotal: 17.8s\tremaining: 2.71s\n",
      "868:\tlearn: 0.3680448\ttotal: 17.8s\tremaining: 2.69s\n",
      "869:\tlearn: 0.3680200\ttotal: 17.8s\tremaining: 2.67s\n",
      "870:\tlearn: 0.3679949\ttotal: 17.9s\tremaining: 2.65s\n",
      "871:\tlearn: 0.3679948\ttotal: 17.9s\tremaining: 2.63s\n",
      "872:\tlearn: 0.3679656\ttotal: 17.9s\tremaining: 2.61s\n",
      "873:\tlearn: 0.3679626\ttotal: 17.9s\tremaining: 2.58s\n",
      "874:\tlearn: 0.3678481\ttotal: 18s\tremaining: 2.56s\n",
      "875:\tlearn: 0.3678389\ttotal: 18s\tremaining: 2.54s\n",
      "876:\tlearn: 0.3678178\ttotal: 18s\tremaining: 2.52s\n",
      "877:\tlearn: 0.3676492\ttotal: 18s\tremaining: 2.5s\n",
      "878:\tlearn: 0.3676325\ttotal: 18.1s\tremaining: 2.49s\n",
      "879:\tlearn: 0.3676313\ttotal: 18.1s\tremaining: 2.47s\n",
      "880:\tlearn: 0.3675916\ttotal: 18.1s\tremaining: 2.45s\n",
      "881:\tlearn: 0.3675860\ttotal: 18.1s\tremaining: 2.43s\n",
      "882:\tlearn: 0.3675842\ttotal: 18.2s\tremaining: 2.4s\n",
      "883:\tlearn: 0.3675801\ttotal: 18.2s\tremaining: 2.38s\n",
      "884:\tlearn: 0.3675719\ttotal: 18.2s\tremaining: 2.37s\n",
      "885:\tlearn: 0.3675482\ttotal: 18.2s\tremaining: 2.35s\n",
      "886:\tlearn: 0.3675069\ttotal: 18.3s\tremaining: 2.33s\n",
      "887:\tlearn: 0.3674979\ttotal: 18.3s\tremaining: 2.31s\n",
      "888:\tlearn: 0.3674490\ttotal: 18.3s\tremaining: 2.29s\n",
      "889:\tlearn: 0.3674243\ttotal: 18.4s\tremaining: 2.27s\n",
      "890:\tlearn: 0.3674062\ttotal: 18.4s\tremaining: 2.25s\n",
      "891:\tlearn: 0.3674059\ttotal: 18.4s\tremaining: 2.23s\n",
      "892:\tlearn: 0.3673724\ttotal: 18.4s\tremaining: 2.21s\n",
      "893:\tlearn: 0.3672742\ttotal: 18.5s\tremaining: 2.19s\n",
      "894:\tlearn: 0.3672742\ttotal: 18.5s\tremaining: 2.17s\n",
      "895:\tlearn: 0.3672489\ttotal: 18.5s\tremaining: 2.15s\n",
      "896:\tlearn: 0.3672487\ttotal: 18.5s\tremaining: 2.13s\n",
      "897:\tlearn: 0.3672095\ttotal: 18.5s\tremaining: 2.1s\n",
      "898:\tlearn: 0.3672080\ttotal: 18.6s\tremaining: 2.08s\n",
      "899:\tlearn: 0.3671583\ttotal: 18.6s\tremaining: 2.06s\n",
      "900:\tlearn: 0.3671581\ttotal: 18.6s\tremaining: 2.04s\n",
      "901:\tlearn: 0.3671580\ttotal: 18.6s\tremaining: 2.02s\n",
      "902:\tlearn: 0.3671459\ttotal: 18.7s\tremaining: 2s\n",
      "903:\tlearn: 0.3671365\ttotal: 18.7s\tremaining: 1.98s\n",
      "904:\tlearn: 0.3671328\ttotal: 18.7s\tremaining: 1.96s\n",
      "905:\tlearn: 0.3671209\ttotal: 18.7s\tremaining: 1.94s\n",
      "906:\tlearn: 0.3671193\ttotal: 18.7s\tremaining: 1.92s\n",
      "907:\tlearn: 0.3671192\ttotal: 18.8s\tremaining: 1.9s\n",
      "908:\tlearn: 0.3671181\ttotal: 18.8s\tremaining: 1.88s\n",
      "909:\tlearn: 0.3671180\ttotal: 18.8s\tremaining: 1.86s\n",
      "910:\tlearn: 0.3671048\ttotal: 18.8s\tremaining: 1.84s\n",
      "911:\tlearn: 0.3670864\ttotal: 18.8s\tremaining: 1.82s\n",
      "912:\tlearn: 0.3670861\ttotal: 18.8s\tremaining: 1.79s\n",
      "913:\tlearn: 0.3670729\ttotal: 18.9s\tremaining: 1.78s\n",
      "914:\tlearn: 0.3670455\ttotal: 18.9s\tremaining: 1.76s\n",
      "915:\tlearn: 0.3670450\ttotal: 18.9s\tremaining: 1.74s\n",
      "916:\tlearn: 0.3670371\ttotal: 19s\tremaining: 1.72s\n",
      "917:\tlearn: 0.3670370\ttotal: 19s\tremaining: 1.7s\n",
      "918:\tlearn: 0.3670256\ttotal: 19s\tremaining: 1.68s\n",
      "919:\tlearn: 0.3669699\ttotal: 19s\tremaining: 1.66s\n",
      "920:\tlearn: 0.3669674\ttotal: 19.1s\tremaining: 1.63s\n",
      "921:\tlearn: 0.3669031\ttotal: 19.1s\tremaining: 1.61s\n",
      "922:\tlearn: 0.3668787\ttotal: 19.1s\tremaining: 1.59s\n",
      "923:\tlearn: 0.3668703\ttotal: 19.1s\tremaining: 1.57s\n",
      "924:\tlearn: 0.3667808\ttotal: 19.2s\tremaining: 1.55s\n",
      "925:\tlearn: 0.3667724\ttotal: 19.2s\tremaining: 1.53s\n",
      "926:\tlearn: 0.3667721\ttotal: 19.2s\tremaining: 1.51s\n",
      "927:\tlearn: 0.3667702\ttotal: 19.2s\tremaining: 1.49s\n",
      "928:\tlearn: 0.3667543\ttotal: 19.2s\tremaining: 1.47s\n",
      "929:\tlearn: 0.3667540\ttotal: 19.3s\tremaining: 1.45s\n",
      "930:\tlearn: 0.3667247\ttotal: 19.3s\tremaining: 1.43s\n",
      "931:\tlearn: 0.3667224\ttotal: 19.3s\tremaining: 1.41s\n",
      "932:\tlearn: 0.3667221\ttotal: 19.3s\tremaining: 1.39s\n",
      "933:\tlearn: 0.3666733\ttotal: 19.3s\tremaining: 1.36s\n",
      "934:\tlearn: 0.3666717\ttotal: 19.3s\tremaining: 1.34s\n",
      "935:\tlearn: 0.3666657\ttotal: 19.4s\tremaining: 1.32s\n",
      "936:\tlearn: 0.3665794\ttotal: 19.4s\tremaining: 1.3s\n",
      "937:\tlearn: 0.3665792\ttotal: 19.4s\tremaining: 1.28s\n",
      "938:\tlearn: 0.3665789\ttotal: 19.4s\tremaining: 1.26s\n",
      "939:\tlearn: 0.3665788\ttotal: 19.4s\tremaining: 1.24s\n",
      "940:\tlearn: 0.3665300\ttotal: 19.5s\tremaining: 1.22s\n",
      "941:\tlearn: 0.3665177\ttotal: 19.5s\tremaining: 1.2s\n",
      "942:\tlearn: 0.3665106\ttotal: 19.5s\tremaining: 1.18s\n",
      "943:\tlearn: 0.3665103\ttotal: 19.5s\tremaining: 1.16s\n",
      "944:\tlearn: 0.3664614\ttotal: 19.5s\tremaining: 1.14s\n",
      "945:\tlearn: 0.3664564\ttotal: 19.6s\tremaining: 1.12s\n",
      "946:\tlearn: 0.3664561\ttotal: 19.6s\tremaining: 1.09s\n",
      "947:\tlearn: 0.3664127\ttotal: 19.6s\tremaining: 1.07s\n",
      "948:\tlearn: 0.3664125\ttotal: 19.6s\tremaining: 1.05s\n",
      "949:\tlearn: 0.3663686\ttotal: 19.7s\tremaining: 1.03s\n",
      "950:\tlearn: 0.3663596\ttotal: 19.7s\tremaining: 1.01s\n",
      "951:\tlearn: 0.3663543\ttotal: 19.7s\tremaining: 994ms\n",
      "952:\tlearn: 0.3663537\ttotal: 19.7s\tremaining: 973ms\n",
      "953:\tlearn: 0.3663468\ttotal: 19.8s\tremaining: 953ms\n",
      "954:\tlearn: 0.3663465\ttotal: 19.8s\tremaining: 932ms\n",
      "955:\tlearn: 0.3663448\ttotal: 19.8s\tremaining: 911ms\n",
      "956:\tlearn: 0.3663443\ttotal: 19.8s\tremaining: 890ms\n",
      "957:\tlearn: 0.3663058\ttotal: 19.8s\tremaining: 869ms\n",
      "958:\tlearn: 0.3662598\ttotal: 19.9s\tremaining: 849ms\n",
      "959:\tlearn: 0.3662597\ttotal: 19.9s\tremaining: 828ms\n",
      "960:\tlearn: 0.3662590\ttotal: 19.9s\tremaining: 807ms\n",
      "961:\tlearn: 0.3662401\ttotal: 19.9s\tremaining: 787ms\n",
      "962:\tlearn: 0.3662380\ttotal: 19.9s\tremaining: 766ms\n",
      "963:\tlearn: 0.3662209\ttotal: 20s\tremaining: 746ms\n",
      "964:\tlearn: 0.3662208\ttotal: 20s\tremaining: 725ms\n",
      "965:\tlearn: 0.3662206\ttotal: 20s\tremaining: 704ms\n",
      "966:\tlearn: 0.3662199\ttotal: 20s\tremaining: 683ms\n",
      "967:\tlearn: 0.3661978\ttotal: 20s\tremaining: 662ms\n",
      "968:\tlearn: 0.3661922\ttotal: 20.1s\tremaining: 642ms\n",
      "969:\tlearn: 0.3661533\ttotal: 20.1s\tremaining: 621ms\n",
      "970:\tlearn: 0.3661438\ttotal: 20.1s\tremaining: 600ms\n",
      "971:\tlearn: 0.3661188\ttotal: 20.1s\tremaining: 579ms\n",
      "972:\tlearn: 0.3661185\ttotal: 20.1s\tremaining: 558ms\n",
      "973:\tlearn: 0.3661075\ttotal: 20.1s\tremaining: 538ms\n",
      "974:\tlearn: 0.3661070\ttotal: 20.2s\tremaining: 517ms\n",
      "975:\tlearn: 0.3660641\ttotal: 20.2s\tremaining: 496ms\n",
      "976:\tlearn: 0.3660641\ttotal: 20.2s\tremaining: 476ms\n",
      "977:\tlearn: 0.3660624\ttotal: 20.2s\tremaining: 455ms\n",
      "978:\tlearn: 0.3660447\ttotal: 20.3s\tremaining: 435ms\n",
      "979:\tlearn: 0.3660409\ttotal: 20.3s\tremaining: 414ms\n",
      "980:\tlearn: 0.3660073\ttotal: 20.3s\tremaining: 394ms\n"
     ]
    },
    {
     "name": "stdout",
     "output_type": "stream",
     "text": [
      "981:\tlearn: 0.3660073\ttotal: 20.3s\tremaining: 373ms\n",
      "982:\tlearn: 0.3659844\ttotal: 20.4s\tremaining: 352ms\n",
      "983:\tlearn: 0.3659841\ttotal: 20.4s\tremaining: 332ms\n",
      "984:\tlearn: 0.3659671\ttotal: 20.4s\tremaining: 311ms\n",
      "985:\tlearn: 0.3659628\ttotal: 20.5s\tremaining: 291ms\n",
      "986:\tlearn: 0.3659590\ttotal: 20.5s\tremaining: 270ms\n",
      "987:\tlearn: 0.3659577\ttotal: 20.5s\tremaining: 249ms\n",
      "988:\tlearn: 0.3659177\ttotal: 20.5s\tremaining: 228ms\n",
      "989:\tlearn: 0.3659097\ttotal: 20.6s\tremaining: 208ms\n",
      "990:\tlearn: 0.3659097\ttotal: 20.6s\tremaining: 187ms\n",
      "991:\tlearn: 0.3659094\ttotal: 20.6s\tremaining: 166ms\n",
      "992:\tlearn: 0.3658943\ttotal: 20.6s\tremaining: 145ms\n",
      "993:\tlearn: 0.3658839\ttotal: 20.6s\tremaining: 125ms\n",
      "994:\tlearn: 0.3658740\ttotal: 20.7s\tremaining: 104ms\n",
      "995:\tlearn: 0.3658738\ttotal: 20.7s\tremaining: 83ms\n",
      "996:\tlearn: 0.3657432\ttotal: 20.7s\tremaining: 62.2ms\n",
      "997:\tlearn: 0.3657274\ttotal: 20.7s\tremaining: 41.5ms\n",
      "998:\tlearn: 0.3657221\ttotal: 20.7s\tremaining: 20.8ms\n",
      "999:\tlearn: 0.3657192\ttotal: 20.8s\tremaining: 0us\n",
      "Trained finishedn now predicting\n",
      "1409\n",
      "Starting to get the metrics\n",
      "Training model\n",
      "Trained finishedn now predicting\n",
      "1409\n",
      "Starting to get the metrics\n",
      "Training model\n",
      "Trained finishedn now predicting\n",
      "1409\n",
      "Starting to get the metrics\n"
     ]
    }
   ],
   "source": [
    "metrics, splits = train_bl_models([cb_clf,xgb_clf,lgb_clf],data,features,'Churn', 0.2)"
   ]
  },
  {
   "cell_type": "markdown",
   "metadata": {},
   "source": [
    "### Confusion Matrix"
   ]
  },
  {
   "cell_type": "code",
   "execution_count": 136,
   "metadata": {},
   "outputs": [],
   "source": [
    "def create_cm(y_test, y_pred):\n",
    "    data = {'y_Actual': y_test,\n",
    "       'y_Pred': y_pred}\n",
    "    df_cm = pd.DataFrame(data, columns=['y_Actual','y_Pred'])\n",
    "    \n",
    "    confusion_matrix = pd.crosstab(df_cm['y_Actual'], df_cm['y_Pred'], rownames=['Actual'], colnames=['Predicted'])\n",
    "    sns.heatmap(confusion_matrix, annot=True, fmt='d')\n"
   ]
  },
  {
   "cell_type": "markdown",
   "metadata": {},
   "source": [
    "#### Catboost"
   ]
  },
  {
   "cell_type": "code",
   "execution_count": 181,
   "metadata": {},
   "outputs": [
    {
     "data": {
      "image/png": "[encoded data removed]",
      "text/plain": [
       "<Figure size 432x288 with 2 Axes>"
      ]
     },
     "metadata": {
      "needs_background": "light"
     },
     "output_type": "display_data"
    }
   ],
   "source": [
    "create_cm(splits['y_test'], metrics['pred'].loc[0])"
   ]
  },
  {
   "cell_type": "markdown",
   "metadata": {},
   "source": [
    "#### XGBoost"
   ]
  },
  {
   "cell_type": "code",
   "execution_count": 182,
   "metadata": {
    "scrolled": true
   },
   "outputs": [
    {
     "data": {
      "image/png": "[encoded data removed]",
      "text/plain": [
       "<Figure size 432x288 with 2 Axes>"
      ]
     },
     "metadata": {
      "needs_background": "light"
     },
     "output_type": "display_data"
    }
   ],
   "source": [
    "create_cm(splits['y_test'], metrics['pred'].loc[1])"
   ]
  },
  {
   "cell_type": "markdown",
   "metadata": {},
   "source": [
    "#### LightGBM"
   ]
  },
  {
   "cell_type": "code",
   "execution_count": 183,
   "metadata": {},
   "outputs": [
    {
     "data": {
      "image/png": "[encoded data removed]",
      "text/plain": [
       "<Figure size 432x288 with 2 Axes>"
      ]
     },
     "metadata": {
      "needs_background": "light"
     },
     "output_type": "display_data"
    }
   ],
   "source": [
    "create_cm(splits['y_test'], metrics['pred'].loc[2])"
   ]
  },
  {
   "cell_type": "markdown",
   "metadata": {},
   "source": [
    "### Roc cuvers"
   ]
  },
  {
   "cell_type": "code",
   "execution_count": 203,
   "metadata": {},
   "outputs": [],
   "source": [
    "def plot_roc_curves(fprs, tprs):\n",
    "    #set up plot\n",
    "    plt.style.use('seaborn')\n",
    "    colors = ['orange','green','blue','red']\n",
    "    for model in range(0,len(fprs)):\n",
    "        plt.plot(fprs[model], tprs[model], linestyle='--', color=colors[model],\n",
    "                 label=f\"Model {model}\")\n",
    "        \n",
    "    plt.title('ROC Curve')\n",
    "    plt.xlabel('False Positive Rate')\n",
    "    plt.ylabel('True Positive Rate')\n",
    "    plt.legend(loc='best')\n",
    "    plt.show()\n",
    "    \n",
    "    "
   ]
  },
  {
   "cell_type": "code",
   "execution_count": 204,
   "metadata": {},
   "outputs": [
    {
     "data": {
      "image/png": "[encoded data removed]",
      "text/plain": [
       "<Figure size 576x396 with 1 Axes>"
      ]
     },
     "metadata": {},
     "output_type": "display_data"
    }
   ],
   "source": [
    "plot_roc_curves(metrics['FPR'].tolist(), metrics['TPR'].tolist())"
   ]
  },
  {
   "cell_type": "code",
   "execution_count": null,
   "metadata": {},
   "outputs": [],
   "source": []
  }
 ],
 "metadata": {
  "kernelspec": {
   "display_name": "Python 3",
   "language": "python",
   "name": "python3"
  },
  "language_info": {
   "codemirror_mode": {
    "name": "ipython",
    "version": 3
   },
   "file_extension": ".py",
   "mimetype": "text/x-python",
   "name": "python",
   "nbconvert_exporter": "python",
   "pygments_lexer": "ipython3",
   "version": "3.7.6"
  }
 },
 "nbformat": 4,
 "nbformat_minor": 4
}
